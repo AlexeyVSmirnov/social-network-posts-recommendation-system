{
 "cells": [
  {
   "cell_type": "markdown",
   "id": "a67270e0-4cb2-428c-a2b5-9a8ba50e25be",
   "metadata": {},
   "source": [
    "# Обучение модели\n",
    "В этом ноутбуке выполняется обучение модели на признаках, полученных в ноутбуке `prepare_and_save_features.ipynb`.\n",
    "Цель обучения - создать модель классификации, прогнозирующей, понравится ли пользователю с определенными характеристиками пост с его определенными характеристиками. "
   ]
  },
  {
   "cell_type": "code",
   "execution_count": 1,
   "id": "b690fb6e-8a34-44b9-a5e1-b47fe70302dd",
   "metadata": {},
   "outputs": [],
   "source": [
    "import pandas as pd\n",
    "import numpy as np\n",
    "import datetime as dt\n",
    "from dotenv import dotenv_values\n",
    "from sklearn.metrics import recall_score, precision_score, f1_score\n",
    "from catboost import CatBoostClassifier\n",
    "\n",
    "\n",
    "RND_STATE = 2024\n",
    "TEST_ROWS_COUNT = 300000\n",
    "SAVE_MODEL_TO_FILE = False"
   ]
  },
  {
   "cell_type": "code",
   "execution_count": 2,
   "id": "3158f1e6-6dcb-4ae8-b657-59484762073c",
   "metadata": {},
   "outputs": [],
   "source": [
    "env_dict = dotenv_values(\"../creds/.env\")\n",
    "MODEL_FILE_NAME = env_dict.get(\"KC_STARTML_MODEL_FILE\", \n",
    "                               f\"catboost_model_{dt.datetime.now()}\"\n",
    "                               .split(\".\")[0]\n",
    "                               .replace(\" \", \"_\")\n",
    "                               .replace(\":\", \"_\"))"
   ]
  },
  {
   "cell_type": "markdown",
   "id": "1d525877-839f-4aee-baf6-097031149e56",
   "metadata": {},
   "source": [
    "## Загрузка подготовленных данных\n",
    "Перед загрузкой данных с признаками надо сначала выполнить все действия в ноутбуке `prepare_and_save_features.ipynb`, предварительно поставив флаг `SAVE_DATA_TO_CSV = True`."
   ]
  },
  {
   "cell_type": "code",
   "execution_count": 3,
   "id": "d43cc54a-55fb-4510-a206-3dc19d1d7f6f",
   "metadata": {},
   "outputs": [
    {
     "data": {
      "text/html": [
       "<div>\n",
       "<style scoped>\n",
       "    .dataframe tbody tr th:only-of-type {\n",
       "        vertical-align: middle;\n",
       "    }\n",
       "\n",
       "    .dataframe tbody tr th {\n",
       "        vertical-align: top;\n",
       "    }\n",
       "\n",
       "    .dataframe thead th {\n",
       "        text-align: right;\n",
       "    }\n",
       "</style>\n",
       "<table border=\"1\" class=\"dataframe\">\n",
       "  <thead>\n",
       "    <tr style=\"text-align: right;\">\n",
       "      <th></th>\n",
       "      <th>user_id</th>\n",
       "      <th>gender</th>\n",
       "      <th>age</th>\n",
       "      <th>country_and_city</th>\n",
       "      <th>exp_group</th>\n",
       "      <th>os_iOS</th>\n",
       "      <th>source_organic</th>\n",
       "    </tr>\n",
       "  </thead>\n",
       "  <tbody>\n",
       "    <tr>\n",
       "      <th>0</th>\n",
       "      <td>200</td>\n",
       "      <td>1</td>\n",
       "      <td>34</td>\n",
       "      <td>0.000869</td>\n",
       "      <td>3</td>\n",
       "      <td>0</td>\n",
       "      <td>0</td>\n",
       "    </tr>\n",
       "    <tr>\n",
       "      <th>1</th>\n",
       "      <td>201</td>\n",
       "      <td>0</td>\n",
       "      <td>37</td>\n",
       "      <td>0.010972</td>\n",
       "      <td>0</td>\n",
       "      <td>0</td>\n",
       "      <td>0</td>\n",
       "    </tr>\n",
       "    <tr>\n",
       "      <th>2</th>\n",
       "      <td>202</td>\n",
       "      <td>1</td>\n",
       "      <td>17</td>\n",
       "      <td>0.019796</td>\n",
       "      <td>4</td>\n",
       "      <td>0</td>\n",
       "      <td>0</td>\n",
       "    </tr>\n",
       "  </tbody>\n",
       "</table>\n",
       "</div>"
      ],
      "text/plain": [
       "   user_id  gender  age  country_and_city  exp_group  os_iOS  source_organic\n",
       "0      200       1   34          0.000869          3       0               0\n",
       "1      201       0   37          0.010972          0       0               0\n",
       "2      202       1   17          0.019796          4       0               0"
      ]
     },
     "execution_count": 3,
     "metadata": {},
     "output_type": "execute_result"
    }
   ],
   "source": [
    "df_user_data = pd.read_csv(\"../data/user_features.csv\")\n",
    "df_user_data.head(3)"
   ]
  },
  {
   "cell_type": "code",
   "execution_count": 4,
   "id": "dccbd6fc-ca9a-4f3d-845b-c3aae9dbdd86",
   "metadata": {},
   "outputs": [
    {
     "data": {
      "text/html": [
       "<div>\n",
       "<style scoped>\n",
       "    .dataframe tbody tr th:only-of-type {\n",
       "        vertical-align: middle;\n",
       "    }\n",
       "\n",
       "    .dataframe tbody tr th {\n",
       "        vertical-align: top;\n",
       "    }\n",
       "\n",
       "    .dataframe thead th {\n",
       "        text-align: right;\n",
       "    }\n",
       "</style>\n",
       "<table border=\"1\" class=\"dataframe\">\n",
       "  <thead>\n",
       "    <tr style=\"text-align: right;\">\n",
       "      <th></th>\n",
       "      <th>post_id</th>\n",
       "      <th>topic</th>\n",
       "      <th>tfidf_mean</th>\n",
       "      <th>tfidf_max</th>\n",
       "    </tr>\n",
       "  </thead>\n",
       "  <tbody>\n",
       "    <tr>\n",
       "      <th>0</th>\n",
       "      <td>1</td>\n",
       "      <td>0.04743</td>\n",
       "      <td>0.627607</td>\n",
       "      <td>0.731115</td>\n",
       "    </tr>\n",
       "    <tr>\n",
       "      <th>1</th>\n",
       "      <td>2</td>\n",
       "      <td>0.04743</td>\n",
       "      <td>1.492879</td>\n",
       "      <td>-0.773927</td>\n",
       "    </tr>\n",
       "    <tr>\n",
       "      <th>2</th>\n",
       "      <td>3</td>\n",
       "      <td>0.04743</td>\n",
       "      <td>1.700723</td>\n",
       "      <td>-0.894502</td>\n",
       "    </tr>\n",
       "  </tbody>\n",
       "</table>\n",
       "</div>"
      ],
      "text/plain": [
       "   post_id    topic  tfidf_mean  tfidf_max\n",
       "0        1  0.04743    0.627607   0.731115\n",
       "1        2  0.04743    1.492879  -0.773927\n",
       "2        3  0.04743    1.700723  -0.894502"
      ]
     },
     "execution_count": 4,
     "metadata": {},
     "output_type": "execute_result"
    }
   ],
   "source": [
    "df_post_data = pd.read_csv(\"../data/post_features.csv\")\n",
    "df_post_data.head(3)"
   ]
  },
  {
   "cell_type": "code",
   "execution_count": 5,
   "id": "6e63ebec-6526-479d-9be9-660fe7e3a8a2",
   "metadata": {},
   "outputs": [
    {
     "data": {
      "text/html": [
       "<div>\n",
       "<style scoped>\n",
       "    .dataframe tbody tr th:only-of-type {\n",
       "        vertical-align: middle;\n",
       "    }\n",
       "\n",
       "    .dataframe tbody tr th {\n",
       "        vertical-align: top;\n",
       "    }\n",
       "\n",
       "    .dataframe thead th {\n",
       "        text-align: right;\n",
       "    }\n",
       "</style>\n",
       "<table border=\"1\" class=\"dataframe\">\n",
       "  <thead>\n",
       "    <tr style=\"text-align: right;\">\n",
       "      <th></th>\n",
       "      <th>timestamp</th>\n",
       "      <th>user_id</th>\n",
       "      <th>post_id</th>\n",
       "      <th>target</th>\n",
       "    </tr>\n",
       "  </thead>\n",
       "  <tbody>\n",
       "    <tr>\n",
       "      <th>0</th>\n",
       "      <td>2021-10-01 06:01:40</td>\n",
       "      <td>1859</td>\n",
       "      <td>1498</td>\n",
       "      <td>1</td>\n",
       "    </tr>\n",
       "    <tr>\n",
       "      <th>1</th>\n",
       "      <td>2021-10-01 06:01:40</td>\n",
       "      <td>8663</td>\n",
       "      <td>3837</td>\n",
       "      <td>1</td>\n",
       "    </tr>\n",
       "    <tr>\n",
       "      <th>2</th>\n",
       "      <td>2021-10-01 06:01:40</td>\n",
       "      <td>15471</td>\n",
       "      <td>2810</td>\n",
       "      <td>0</td>\n",
       "    </tr>\n",
       "  </tbody>\n",
       "</table>\n",
       "</div>"
      ],
      "text/plain": [
       "             timestamp  user_id  post_id  target\n",
       "0  2021-10-01 06:01:40     1859     1498       1\n",
       "1  2021-10-01 06:01:40     8663     3837       1\n",
       "2  2021-10-01 06:01:40    15471     2810       0"
      ]
     },
     "execution_count": 5,
     "metadata": {},
     "output_type": "execute_result"
    }
   ],
   "source": [
    "df_feed_data = pd.read_csv(\"../data/feed_data.csv\")\n",
    "df_feed_data.head(3)"
   ]
  },
  {
   "cell_type": "markdown",
   "id": "91d568e0-57f1-4285-8c78-6c798858f5ea",
   "metadata": {},
   "source": [
    "## Объединение данных в один DataFrame"
   ]
  },
  {
   "cell_type": "code",
   "execution_count": 6,
   "id": "4c88d1dc-bba2-4e82-b8cd-b23ddbf266ad",
   "metadata": {},
   "outputs": [],
   "source": [
    "df_views_data = (df_feed_data\n",
    "                .merge(df_user_data, on=\"user_id\")\n",
    "                .merge(df_post_data, on=\"post_id\")).sort_values(\"timestamp\").reset_index(drop=True)\n",
    "del df_feed_data"
   ]
  },
  {
   "cell_type": "code",
   "execution_count": 7,
   "id": "db7c0396-20da-45f8-b065-4777e0a7f8a2",
   "metadata": {},
   "outputs": [
    {
     "name": "stdout",
     "output_type": "stream",
     "text": [
      "Количества значений целевой переменной:\n",
      "0    4861763\n",
      "1     498618\n",
      "Name: target, dtype: int64\n",
      "Баланс классов: 0.1026\n"
     ]
    }
   ],
   "source": [
    "target_counts = df_views_data.target.value_counts()\n",
    "print(f\"Количества значений целевой переменной:\\n{target_counts}\")\n",
    "print(f\"Баланс классов: {target_counts[1] / target_counts[0]:.4f}\")\n",
    "del target_counts"
   ]
  },
  {
   "cell_type": "code",
   "execution_count": 8,
   "id": "162327c8-c254-4227-a7da-4a57629781a8",
   "metadata": {},
   "outputs": [
    {
     "name": "stdout",
     "output_type": "stream",
     "text": [
      "(5360381, 13)\n"
     ]
    },
    {
     "data": {
      "text/html": [
       "<div>\n",
       "<style scoped>\n",
       "    .dataframe tbody tr th:only-of-type {\n",
       "        vertical-align: middle;\n",
       "    }\n",
       "\n",
       "    .dataframe tbody tr th {\n",
       "        vertical-align: top;\n",
       "    }\n",
       "\n",
       "    .dataframe thead th {\n",
       "        text-align: right;\n",
       "    }\n",
       "</style>\n",
       "<table border=\"1\" class=\"dataframe\">\n",
       "  <thead>\n",
       "    <tr style=\"text-align: right;\">\n",
       "      <th></th>\n",
       "      <th>timestamp</th>\n",
       "      <th>user_id</th>\n",
       "      <th>post_id</th>\n",
       "      <th>target</th>\n",
       "      <th>gender</th>\n",
       "      <th>age</th>\n",
       "      <th>country_and_city</th>\n",
       "      <th>exp_group</th>\n",
       "      <th>os_iOS</th>\n",
       "      <th>source_organic</th>\n",
       "      <th>topic</th>\n",
       "      <th>tfidf_mean</th>\n",
       "      <th>tfidf_max</th>\n",
       "    </tr>\n",
       "  </thead>\n",
       "  <tbody>\n",
       "    <tr>\n",
       "      <th>0</th>\n",
       "      <td>2021-10-01 06:01:40</td>\n",
       "      <td>1859</td>\n",
       "      <td>1498</td>\n",
       "      <td>1</td>\n",
       "      <td>0</td>\n",
       "      <td>19</td>\n",
       "      <td>0.039501</td>\n",
       "      <td>3</td>\n",
       "      <td>0</td>\n",
       "      <td>0</td>\n",
       "      <td>0.047443</td>\n",
       "      <td>1.653575</td>\n",
       "      <td>-1.310722</td>\n",
       "    </tr>\n",
       "    <tr>\n",
       "      <th>1</th>\n",
       "      <td>2021-10-01 06:01:40</td>\n",
       "      <td>66609</td>\n",
       "      <td>3270</td>\n",
       "      <td>1</td>\n",
       "      <td>1</td>\n",
       "      <td>47</td>\n",
       "      <td>0.003155</td>\n",
       "      <td>4</td>\n",
       "      <td>0</td>\n",
       "      <td>0</td>\n",
       "      <td>0.540549</td>\n",
       "      <td>-1.439735</td>\n",
       "      <td>0.462559</td>\n",
       "    </tr>\n",
       "    <tr>\n",
       "      <th>2</th>\n",
       "      <td>2021-10-01 06:01:40</td>\n",
       "      <td>163409</td>\n",
       "      <td>3558</td>\n",
       "      <td>0</td>\n",
       "      <td>1</td>\n",
       "      <td>23</td>\n",
       "      <td>0.025740</td>\n",
       "      <td>2</td>\n",
       "      <td>0</td>\n",
       "      <td>1</td>\n",
       "      <td>0.540549</td>\n",
       "      <td>-1.405051</td>\n",
       "      <td>-0.182656</td>\n",
       "    </tr>\n",
       "  </tbody>\n",
       "</table>\n",
       "</div>"
      ],
      "text/plain": [
       "             timestamp  user_id  post_id  target  gender  age  \\\n",
       "0  2021-10-01 06:01:40     1859     1498       1       0   19   \n",
       "1  2021-10-01 06:01:40    66609     3270       1       1   47   \n",
       "2  2021-10-01 06:01:40   163409     3558       0       1   23   \n",
       "\n",
       "   country_and_city  exp_group  os_iOS  source_organic     topic  tfidf_mean  \\\n",
       "0          0.039501          3       0               0  0.047443    1.653575   \n",
       "1          0.003155          4       0               0  0.540549   -1.439735   \n",
       "2          0.025740          2       0               1  0.540549   -1.405051   \n",
       "\n",
       "   tfidf_max  \n",
       "0  -1.310722  \n",
       "1   0.462559  \n",
       "2  -0.182656  "
      ]
     },
     "execution_count": 8,
     "metadata": {},
     "output_type": "execute_result"
    }
   ],
   "source": [
    "print(df_views_data.shape)\n",
    "df_views_data.head(3)"
   ]
  },
  {
   "cell_type": "markdown",
   "id": "bae888ac-bf56-49a5-9d58-7bac3613fa45",
   "metadata": {},
   "source": [
    "## Создание моделей"
   ]
  },
  {
   "cell_type": "markdown",
   "id": "a1f865ef-4423-4437-ab79-631d0d2b27f3",
   "metadata": {},
   "source": [
    "### Деление данных на тренировочные и тестовые"
   ]
  },
  {
   "cell_type": "code",
   "execution_count": 9,
   "id": "1960d1a0-f77e-43b0-b7c4-497e7addde53",
   "metadata": {},
   "outputs": [],
   "source": [
    "X_train = df_views_data.iloc[:-TEST_ROWS_COUNT, :].drop([\"target\", \"post_id\", \"user_id\", \"timestamp\"], axis=1)\n",
    "y_train = df_views_data.iloc[:-TEST_ROWS_COUNT, :][\"target\"]\n",
    "X_test = df_views_data.iloc[-TEST_ROWS_COUNT:, :].drop([\"target\", \"post_id\", \"user_id\", \"timestamp\"], axis=1)\n",
    "y_test = df_views_data.iloc[-TEST_ROWS_COUNT:, :][\"target\"]"
   ]
  },
  {
   "cell_type": "code",
   "execution_count": 10,
   "id": "3b289c51-a57a-4b9f-b1c9-08ba743d6bf7",
   "metadata": {},
   "outputs": [],
   "source": [
    "def print_model_scores(model, X_train, X_test, y_train, y_test):\n",
    "    \"\"\"\n",
    "    Печать величин Precision, Recall и F1-score переданной модели\n",
    "    по переданным тренировочным и тестовым данным\n",
    "    \"\"\"\n",
    "    pred_train = model.predict(X_train)\n",
    "    print(f\"Train Precision: {precision_score(y_train, pred_train):.4}\")\n",
    "    print(f\"Train Recall: {recall_score(y_train, pred_train):.4}\")\n",
    "    print(f\"Train F1-score: {f1_score(y_train, pred_train):.4}\")\n",
    "    print(\"\")\n",
    "    pred_test = model.predict(X_test)\n",
    "    print(f\"Precision: {precision_score(y_test, pred_test):.4}\")\n",
    "    print(f\"Recall: {recall_score(y_test, pred_test):.4}\")\n",
    "    print(f\"F1-score: {f1_score(y_test, pred_test):.4}\")\n"
   ]
  },
  {
   "cell_type": "code",
   "execution_count": 11,
   "id": "894a2c85-b551-46b3-9ed7-d2e8732f2937",
   "metadata": {},
   "outputs": [],
   "source": [
    "def get_final_metric_value(model, test_data, k=5):\n",
    "    \"\"\"\n",
    "    Функция измерения финальной метрики HitRate@k\n",
    "    переданной модели, по переданным тестовым данным\n",
    "    \"\"\"\n",
    "    data = test_data.copy()\n",
    "    X_test_data = data.drop([\"target\", \"post_id\", \"user_id\", \"timestamp\"], axis=1)\n",
    "    y_test_date = data.target\n",
    "\n",
    "    X_test_data[\"pred\"] = model.predict_proba(X_test_data)[:, 1]\n",
    "    X_test_data[\"target\"] = y_test_date\n",
    "    X_test_data[\"user_id\"] = data[\"user_id\"]\n",
    "    X_test_data[\"post_id\"] = data[\"post_id\"]\n",
    "\n",
    "    users_hitrate = []\n",
    "    \n",
    "    for user in X_test_data[\"user_id\"].unique():\n",
    "        part = X_test_data[X_test_data[\"user_id\"]==user]\n",
    "        part = part.sort_values(\"pred\", ascending=False)\n",
    "        part = part.reset_index()\n",
    "        user_hitrate =  part.target[:k].max()\n",
    "        users_hitrate.append(user_hitrate)\n",
    "        \n",
    "    result = np.mean(users_hitrate)\n",
    "    print(f\"Среднее HitRate@{k} по пользователям из теста: {result}\")\n",
    "    \n",
    "    return result"
   ]
  },
  {
   "cell_type": "markdown",
   "id": "54511ec3-5402-46a7-ab30-6f4732c500bd",
   "metadata": {},
   "source": [
    "### Модель CatBoost"
   ]
  },
  {
   "cell_type": "markdown",
   "id": "c61c7b5e-80ce-4599-8bcd-4bf929016b51",
   "metadata": {},
   "source": [
    "#### Обучение финальной модели"
   ]
  },
  {
   "cell_type": "code",
   "execution_count": 12,
   "id": "13d12923-79fe-4008-b7b5-9892e230d25e",
   "metadata": {},
   "outputs": [
    {
     "name": "stdout",
     "output_type": "stream",
     "text": [
      "Train Precision: 0.1449\n",
      "Train Recall: 0.6739\n",
      "Train F1-score: 0.2385\n",
      "\n",
      "Precision: 0.1616\n",
      "Recall: 0.6434\n",
      "F1-score: 0.2583\n",
      "CPU times: user 37min 56s, sys: 28.6 s, total: 38min 25s\n",
      "Wall time: 14min 45s\n"
     ]
    }
   ],
   "source": [
    "%%time\n",
    "model = CatBoostClassifier(random_seed=RND_STATE, verbose=False, \n",
    "                           class_weights = {0: 1, 1:10},\n",
    "                           iterations=1000,\n",
    "                           l2_leaf_reg=1,\n",
    "                           learning_rate=0.4,\n",
    "                           depth=4)\n",
    "\n",
    "model.fit(X_train, y_train)\n",
    "\n",
    "print_model_scores(model, X_train, X_test, y_train, y_test)"
   ]
  },
  {
   "cell_type": "markdown",
   "id": "21e28dd8-535d-406a-acd0-47bd3d4137f2",
   "metadata": {},
   "source": [
    "#### Измерение финальной метрики"
   ]
  },
  {
   "cell_type": "code",
   "execution_count": 13,
   "id": "34acc018-656c-4c32-81c3-a138b57ae934",
   "metadata": {},
   "outputs": [
    {
     "name": "stdout",
     "output_type": "stream",
     "text": [
      "Среднее HitRate@5 по пользователям из теста: 0.5392049598832969\n"
     ]
    },
    {
     "data": {
      "text/plain": [
       "0.5392049598832969"
      ]
     },
     "execution_count": 13,
     "metadata": {},
     "output_type": "execute_result"
    }
   ],
   "source": [
    "get_final_metric_value(model, \n",
    "                       df_views_data.iloc[-TEST_ROWS_COUNT:, :], \n",
    "                       k=5)"
   ]
  },
  {
   "cell_type": "markdown",
   "id": "4dfe26e4-b683-4a01-8214-90896657756a",
   "metadata": {},
   "source": [
    "## Сохранение модели в файл ## "
   ]
  },
  {
   "cell_type": "code",
   "execution_count": 14,
   "id": "032953f3-a9d8-4c54-87bc-1bb508958d51",
   "metadata": {},
   "outputs": [],
   "source": [
    "if SAVE_MODEL_TO_FILE:\n",
    "    model.save_model(f\"../models/{MODEL_FILE_NAME}\", format=\"cbm\")"
   ]
  }
 ],
 "metadata": {
  "kernelspec": {
   "display_name": "Python 3 (ipykernel)",
   "language": "python",
   "name": "python3"
  },
  "language_info": {
   "codemirror_mode": {
    "name": "ipython",
    "version": 3
   },
   "file_extension": ".py",
   "mimetype": "text/x-python",
   "name": "python",
   "nbconvert_exporter": "python",
   "pygments_lexer": "ipython3",
   "version": "3.10.12"
  }
 },
 "nbformat": 4,
 "nbformat_minor": 5
}
