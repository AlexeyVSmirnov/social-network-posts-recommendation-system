{
 "cells": [
  {
   "cell_type": "markdown",
   "id": "7be2a481-452a-47cf-84dc-db7511b429b1",
   "metadata": {},
   "source": [
    "# Формирование признаков пользователей и постов\n",
    "В этом ноутбуке выполняется получение данных из базы данных, извлечение из них значимых признаков и сохранение полученных признаков для дальнейшего использования. Изначально по условию задачи известно, что массивы пользователей и постов фиксированы и меняться не будут.  "
   ]
  },
  {
   "cell_type": "code",
   "execution_count": 1,
   "id": "63069870-1af8-42b4-abef-966a0ef6f5a6",
   "metadata": {},
   "outputs": [],
   "source": [
    "import pandas as pd\n",
    "import numpy as np\n",
    "from dotenv import dotenv_values\n",
    "from sklearn.preprocessing import StandardScaler, MinMaxScaler\n",
    "from sklearn.feature_extraction.text import TfidfVectorizer\n",
    "\n",
    "SAVE_RAW_DATA_TO_CSV = False\n",
    "SAVE_DATA_TO_CSV = False\n",
    "SAVE_DATA_TO_DB = False"
   ]
  },
  {
   "cell_type": "markdown",
   "id": "05b679bc-f93d-483e-bafb-8b2bf7f41054",
   "metadata": {},
   "source": [
    "## Формирование строки подключения к базе данных\n",
    "Для формирования строки подключения к базе данных используется скрытый файл `.env`, содержащий переменные окружения с данными, необходимыми для подключения к базе данных."
   ]
  },
  {
   "cell_type": "code",
   "execution_count": 2,
   "id": "2e82219b-1490-4f6f-a9c7-96cc4191c335",
   "metadata": {},
   "outputs": [],
   "source": [
    "env_dict = dotenv_values(\"../creds/.env\")\n",
    "\n",
    "server = env_dict.get(\"KC_STARTML_POSTGRES_SERVER\", '')\n",
    "port = env_dict.get(\"KC_STARTML_POSTGRES_PORT\")\n",
    "db_name = env_dict.get(\"KC_STARTML_POSTGRES_DB\")\n",
    "user = env_dict.get(\"KC_STARTML_POSTGRES_USER\", '')\n",
    "password = env_dict.get(\"KC_STARTML_POSTGRES_PASSWORD\")\n",
    "\n",
    "password = (':' + password) if password else ''\n",
    "port = (':' + port) if port else ''\n",
    "db_name = ('/' + db_name) if db_name else ''\n",
    "\n",
    "connection_string = f\"postgresql://{user}{password}@{server}{port}{db_name}\""
   ]
  },
  {
   "cell_type": "markdown",
   "id": "bd36db89-abf0-4c69-bce6-65a2065d7bc4",
   "metadata": {},
   "source": [
    "Получение из параметров окружения персонализированных наименований таблиц для сохранения сформированных признаков.  "
   ]
  },
  {
   "cell_type": "code",
   "execution_count": 3,
   "id": "6533046d-4944-4113-9e96-e8f34f11f40c",
   "metadata": {},
   "outputs": [],
   "source": [
    "USERS_FEATURES_TABLE_NAME = env_dict.get(\"KC_STARTML_USERS_FEATURES_TABLE\", '')\n",
    "POSTS_FEATURES_TABLE_NAME = env_dict.get(\"KC_STARTML_POSTS_FEATURES_TABLE\", '')"
   ]
  },
  {
   "cell_type": "markdown",
   "id": "8e5ab378-d84a-4fa0-80af-ba7fd1f51ebc",
   "metadata": {},
   "source": [
    "## Подготовка данных."
   ]
  },
  {
   "cell_type": "code",
   "execution_count": 4,
   "id": "a213d256-5e0d-41b9-b021-92c693460c08",
   "metadata": {},
   "outputs": [],
   "source": [
    "def cat_feature_encode(data: pd.DataFrame, feature_col_name: str, value_col_name: str) -> pd.Series:\n",
    "    \"\"\"\n",
    "    Кодирование категориального признака с использованием \n",
    "    числового признака, как правило уникального идентификатора.\n",
    "    В качестве результата возвращается pandas-серия, в которой \n",
    "    индекс это значение кодируемого категориального признака, \n",
    "    а значение - числовая величина соответствующая значению \n",
    "    категориального признака.\n",
    "    \n",
    "    Пример использования:\n",
    "    >>> df = pd.DataFrame({'id': [1, 2, 3, 4, 5, 6], \n",
    "    ...                    'cat_feature': ['a', 'b', 'a', \n",
    "    ...                                    'c', 'b', 'a']})\n",
    "    >>> print(df)\n",
    "       id cat_feature\n",
    "    0   1           a\n",
    "    1   2           b\n",
    "    2   3           a\n",
    "    3   4           c\n",
    "    4   5           b\n",
    "    5   6           a    \n",
    "    >>> cat_map = cat_feature_encode(df, 'cat_feature', 'id')\n",
    "    >>> df[\"cat_feature\"] = df[\"cat_feature\"].map(cat_map)\n",
    "    >>> print(df)\n",
    "       id  cat_feature\n",
    "    0   1     1.000000\n",
    "    1   2     0.491228\n",
    "    2   3     1.000000\n",
    "    3   4     0.000000\n",
    "    4   5     0.491228\n",
    "    5   6     1.000000\n",
    "        \n",
    "    Parameters\n",
    "    ----------\n",
    "    data : pandas.DataFrame\n",
    "        Данные содержащие категориальный и целевой признак\n",
    "    feature_col_name : str\n",
    "        Наименование категориального признака\n",
    "    value_col_name: str\n",
    "        Наименование целевого признака, с помощью которого\n",
    "        будет кодироваться категориальный\n",
    " \n",
    "    Returns\n",
    "    -------\n",
    "    pandas.Series\n",
    "        Серия, в которой индекс это значение кодируемого \n",
    "        категориального признака, а значение это числовая \n",
    "        величина соответствующая значению категориального \n",
    "        признака.\n",
    "    \"\"\"\n",
    "    df = data.groupby(feature_col_name).agg({value_col_name: [\"count\", \"min\"]})\n",
    "    \n",
    "    mms = MinMaxScaler()\n",
    "    df[(value_col_name, \"min\")] = mms.fit_transform(df[[(value_col_name, \"min\")]])\n",
    "    df[\"code\"] = df[(value_col_name, \"count\")] * 10 + df[(value_col_name, \"min\")]\n",
    "    \n",
    "    mms = MinMaxScaler()\n",
    "    df[\"code\"] = mms.fit_transform(df[[\"code\"]])\n",
    "    return df[\"code\"]"
   ]
  },
  {
   "cell_type": "markdown",
   "id": "67fd7e92-a5d4-4c74-88eb-73aac6efd209",
   "metadata": {},
   "source": [
    "### Формирование признаков пользователей."
   ]
  },
  {
   "cell_type": "markdown",
   "id": "44503c81-b0b1-4537-ba8f-1b0926d04c52",
   "metadata": {},
   "source": [
    "**Получение данных пользователей**  \n",
    "Это данные о всех доступных пользователях."
   ]
  },
  {
   "cell_type": "code",
   "execution_count": 5,
   "id": "60a9134a-7245-4627-be20-9f97030af4ba",
   "metadata": {},
   "outputs": [
    {
     "name": "stdout",
     "output_type": "stream",
     "text": [
      "(163205, 7)\n"
     ]
    },
    {
     "data": {
      "text/html": [
       "<div>\n",
       "<style scoped>\n",
       "    .dataframe tbody tr th:only-of-type {\n",
       "        vertical-align: middle;\n",
       "    }\n",
       "\n",
       "    .dataframe tbody tr th {\n",
       "        vertical-align: top;\n",
       "    }\n",
       "\n",
       "    .dataframe thead th {\n",
       "        text-align: right;\n",
       "    }\n",
       "</style>\n",
       "<table border=\"1\" class=\"dataframe\">\n",
       "  <thead>\n",
       "    <tr style=\"text-align: right;\">\n",
       "      <th></th>\n",
       "      <th>user_id</th>\n",
       "      <th>gender</th>\n",
       "      <th>age</th>\n",
       "      <th>country_and_city</th>\n",
       "      <th>exp_group</th>\n",
       "      <th>os</th>\n",
       "      <th>source</th>\n",
       "    </tr>\n",
       "  </thead>\n",
       "  <tbody>\n",
       "    <tr>\n",
       "      <th>0</th>\n",
       "      <td>200</td>\n",
       "      <td>1</td>\n",
       "      <td>34</td>\n",
       "      <td>Russia, Degtyarsk</td>\n",
       "      <td>3</td>\n",
       "      <td>Android</td>\n",
       "      <td>ads</td>\n",
       "    </tr>\n",
       "    <tr>\n",
       "      <th>1</th>\n",
       "      <td>201</td>\n",
       "      <td>0</td>\n",
       "      <td>37</td>\n",
       "      <td>Russia, Abakan</td>\n",
       "      <td>0</td>\n",
       "      <td>Android</td>\n",
       "      <td>ads</td>\n",
       "    </tr>\n",
       "    <tr>\n",
       "      <th>2</th>\n",
       "      <td>202</td>\n",
       "      <td>1</td>\n",
       "      <td>17</td>\n",
       "      <td>Russia, Smolensk</td>\n",
       "      <td>4</td>\n",
       "      <td>Android</td>\n",
       "      <td>ads</td>\n",
       "    </tr>\n",
       "  </tbody>\n",
       "</table>\n",
       "</div>"
      ],
      "text/plain": [
       "   user_id  gender  age   country_and_city  exp_group       os source\n",
       "0      200       1   34  Russia, Degtyarsk          3  Android    ads\n",
       "1      201       0   37     Russia, Abakan          0  Android    ads\n",
       "2      202       1   17   Russia, Smolensk          4  Android    ads"
      ]
     },
     "execution_count": 5,
     "metadata": {},
     "output_type": "execute_result"
    }
   ],
   "source": [
    "df_user_data_src = pd.read_sql(\n",
    "    \"\"\"\n",
    "    SELECT\n",
    "        user_id,\n",
    "        gender,\n",
    "        age,\n",
    "        CONCAT(country, ', ', city) AS country_and_city,\n",
    "        exp_group,\n",
    "        os,\n",
    "        source\n",
    "    FROM public.user_data \n",
    "    \"\"\",\n",
    "    con=connection_string\n",
    ")\n",
    "\n",
    "print(df_user_data_src.shape)\n",
    "df_user_data_src.head(3)"
   ]
  },
  {
   "cell_type": "markdown",
   "id": "f769c79e-36e4-4d24-ad10-5c3a42d2674e",
   "metadata": {},
   "source": [
    "__Кодирование признаков пользователей:__"
   ]
  },
  {
   "cell_type": "code",
   "execution_count": 6,
   "id": "5da1b100-3134-45c8-bb3b-2f7624a37a98",
   "metadata": {},
   "outputs": [
    {
     "data": {
      "text/html": [
       "<div>\n",
       "<style scoped>\n",
       "    .dataframe tbody tr th:only-of-type {\n",
       "        vertical-align: middle;\n",
       "    }\n",
       "\n",
       "    .dataframe tbody tr th {\n",
       "        vertical-align: top;\n",
       "    }\n",
       "\n",
       "    .dataframe thead th {\n",
       "        text-align: right;\n",
       "    }\n",
       "</style>\n",
       "<table border=\"1\" class=\"dataframe\">\n",
       "  <thead>\n",
       "    <tr style=\"text-align: right;\">\n",
       "      <th></th>\n",
       "      <th>user_id</th>\n",
       "      <th>gender</th>\n",
       "      <th>age</th>\n",
       "      <th>country_and_city</th>\n",
       "      <th>exp_group</th>\n",
       "      <th>os_iOS</th>\n",
       "      <th>source_organic</th>\n",
       "    </tr>\n",
       "  </thead>\n",
       "  <tbody>\n",
       "    <tr>\n",
       "      <th>0</th>\n",
       "      <td>200</td>\n",
       "      <td>1</td>\n",
       "      <td>34</td>\n",
       "      <td>0.000869</td>\n",
       "      <td>3</td>\n",
       "      <td>0</td>\n",
       "      <td>0</td>\n",
       "    </tr>\n",
       "    <tr>\n",
       "      <th>1</th>\n",
       "      <td>201</td>\n",
       "      <td>0</td>\n",
       "      <td>37</td>\n",
       "      <td>0.010972</td>\n",
       "      <td>0</td>\n",
       "      <td>0</td>\n",
       "      <td>0</td>\n",
       "    </tr>\n",
       "    <tr>\n",
       "      <th>2</th>\n",
       "      <td>202</td>\n",
       "      <td>1</td>\n",
       "      <td>17</td>\n",
       "      <td>0.019796</td>\n",
       "      <td>4</td>\n",
       "      <td>0</td>\n",
       "      <td>0</td>\n",
       "    </tr>\n",
       "  </tbody>\n",
       "</table>\n",
       "</div>"
      ],
      "text/plain": [
       "   user_id  gender  age  country_and_city  exp_group  os_iOS  source_organic\n",
       "0      200       1   34          0.000869          3       0               0\n",
       "1      201       0   37          0.010972          0       0               0\n",
       "2      202       1   17          0.019796          4       0               0"
      ]
     },
     "execution_count": 6,
     "metadata": {},
     "output_type": "execute_result"
    }
   ],
   "source": [
    "df_user_data = df_user_data_src.copy()\n",
    "\n",
    "df_user_data = pd.get_dummies(df_user_data, \n",
    "                              columns=[\"os\", \"source\"], \n",
    "                              drop_first=True, \n",
    "                              prefix_sep=\"_\")\n",
    "\n",
    "city_map = cat_feature_encode(df_user_data, \n",
    "                              \"country_and_city\", \"user_id\")\n",
    "df_user_data[\"country_and_city\"] = df_user_data[\"country_and_city\"].map(city_map)\n",
    "\n",
    "df_user_data.head(3)"
   ]
  },
  {
   "cell_type": "markdown",
   "id": "88fdf096-56f4-4ccd-b3ee-d63110fcacf6",
   "metadata": {},
   "source": [
    "### Формирование признаков постов. ###"
   ]
  },
  {
   "cell_type": "markdown",
   "id": "6ceb528a-0de6-42bf-ae73-ffb07022a6ed",
   "metadata": {},
   "source": [
    "**Получение данных постов**  \n",
    "Это данные о всех доступных постах."
   ]
  },
  {
   "cell_type": "code",
   "execution_count": 7,
   "id": "cf16f224-ce98-428c-9ec8-a8859ab8f1b9",
   "metadata": {},
   "outputs": [
    {
     "name": "stdout",
     "output_type": "stream",
     "text": [
      "(7023, 3)\n"
     ]
    },
    {
     "data": {
      "text/html": [
       "<div>\n",
       "<style scoped>\n",
       "    .dataframe tbody tr th:only-of-type {\n",
       "        vertical-align: middle;\n",
       "    }\n",
       "\n",
       "    .dataframe tbody tr th {\n",
       "        vertical-align: top;\n",
       "    }\n",
       "\n",
       "    .dataframe thead th {\n",
       "        text-align: right;\n",
       "    }\n",
       "</style>\n",
       "<table border=\"1\" class=\"dataframe\">\n",
       "  <thead>\n",
       "    <tr style=\"text-align: right;\">\n",
       "      <th></th>\n",
       "      <th>post_id</th>\n",
       "      <th>text</th>\n",
       "      <th>topic</th>\n",
       "    </tr>\n",
       "  </thead>\n",
       "  <tbody>\n",
       "    <tr>\n",
       "      <th>0</th>\n",
       "      <td>1</td>\n",
       "      <td>UK economy facing major risks\\n\\nThe UK manufa...</td>\n",
       "      <td>business</td>\n",
       "    </tr>\n",
       "    <tr>\n",
       "      <th>1</th>\n",
       "      <td>2</td>\n",
       "      <td>Aids and climate top Davos agenda\\n\\nClimate c...</td>\n",
       "      <td>business</td>\n",
       "    </tr>\n",
       "    <tr>\n",
       "      <th>2</th>\n",
       "      <td>3</td>\n",
       "      <td>Asian quake hits European shares\\n\\nShares in ...</td>\n",
       "      <td>business</td>\n",
       "    </tr>\n",
       "  </tbody>\n",
       "</table>\n",
       "</div>"
      ],
      "text/plain": [
       "   post_id                                               text     topic\n",
       "0        1  UK economy facing major risks\\n\\nThe UK manufa...  business\n",
       "1        2  Aids and climate top Davos agenda\\n\\nClimate c...  business\n",
       "2        3  Asian quake hits European shares\\n\\nShares in ...  business"
      ]
     },
     "execution_count": 7,
     "metadata": {},
     "output_type": "execute_result"
    }
   ],
   "source": [
    "df_post_text_src = pd.read_sql(\n",
    "    \"\"\"\n",
    "    SELECT\n",
    "        post_id,\n",
    "        text,\n",
    "        topic\n",
    "    FROM public.post_text_df\n",
    "    \"\"\",\n",
    "    con=connection_string\n",
    ")\n",
    "\n",
    "print(df_post_text_src.shape)\n",
    "df_post_text_src.head(3)"
   ]
  },
  {
   "cell_type": "markdown",
   "id": "7298e75a-fe1d-4b1a-9f3d-c1793a5cc613",
   "metadata": {},
   "source": [
    "__Кодирование признаков постов:__"
   ]
  },
  {
   "cell_type": "code",
   "execution_count": 8,
   "id": "8df9cd10-7941-47be-988b-f373d4afdd1d",
   "metadata": {},
   "outputs": [
    {
     "data": {
      "text/html": [
       "<div>\n",
       "<style scoped>\n",
       "    .dataframe tbody tr th:only-of-type {\n",
       "        vertical-align: middle;\n",
       "    }\n",
       "\n",
       "    .dataframe tbody tr th {\n",
       "        vertical-align: top;\n",
       "    }\n",
       "\n",
       "    .dataframe thead th {\n",
       "        text-align: right;\n",
       "    }\n",
       "</style>\n",
       "<table border=\"1\" class=\"dataframe\">\n",
       "  <thead>\n",
       "    <tr style=\"text-align: right;\">\n",
       "      <th></th>\n",
       "      <th>post_id</th>\n",
       "      <th>topic</th>\n",
       "      <th>tfidf_mean</th>\n",
       "      <th>tfidf_max</th>\n",
       "    </tr>\n",
       "  </thead>\n",
       "  <tbody>\n",
       "    <tr>\n",
       "      <th>0</th>\n",
       "      <td>1</td>\n",
       "      <td>0.04743</td>\n",
       "      <td>0.627607</td>\n",
       "      <td>0.731115</td>\n",
       "    </tr>\n",
       "    <tr>\n",
       "      <th>1</th>\n",
       "      <td>2</td>\n",
       "      <td>0.04743</td>\n",
       "      <td>1.492879</td>\n",
       "      <td>-0.773927</td>\n",
       "    </tr>\n",
       "    <tr>\n",
       "      <th>2</th>\n",
       "      <td>3</td>\n",
       "      <td>0.04743</td>\n",
       "      <td>1.700723</td>\n",
       "      <td>-0.894502</td>\n",
       "    </tr>\n",
       "  </tbody>\n",
       "</table>\n",
       "</div>"
      ],
      "text/plain": [
       "   post_id    topic  tfidf_mean  tfidf_max\n",
       "0        1  0.04743    0.627607   0.731115\n",
       "1        2  0.04743    1.492879  -0.773927\n",
       "2        3  0.04743    1.700723  -0.894502"
      ]
     },
     "execution_count": 8,
     "metadata": {},
     "output_type": "execute_result"
    }
   ],
   "source": [
    "df_post_text = df_post_text_src.copy()\n",
    "\n",
    "tfidf = TfidfVectorizer()\n",
    "tfidf.fit(df_post_text[\"text\"])\n",
    "\n",
    "text_vect = tfidf.transform(df_post_text[\"text\"])\n",
    "\n",
    "df_post_text[\"tfidf_mean\"] = text_vect.mean(axis=1)\n",
    "df_post_text[\"tfidf_max\"] = text_vect.max(axis=1).todense()\n",
    "\n",
    "del text_vect\n",
    "del tfidf\n",
    "\n",
    "df_post_data = df_post_text.drop(\"text\", axis=1)\n",
    "\n",
    "scaler = StandardScaler()\n",
    "df_post_data[[\"tfidf_mean\", \"tfidf_max\"]] = scaler.fit_transform(df_post_data[[\"tfidf_mean\", \"tfidf_max\"]])\n",
    "\n",
    "topic_map = cat_feature_encode(df_post_data, \"topic\", \"post_id\")\n",
    "df_post_data[\"topic\"] = df_post_data[\"topic\"].map(topic_map)\n",
    "\n",
    "df_post_data.head(3)"
   ]
  },
  {
   "cell_type": "markdown",
   "id": "21610e6f-9a0d-460f-8d2f-15a01b599303",
   "metadata": {},
   "source": [
    "## Сохранение данных"
   ]
  },
  {
   "cell_type": "markdown",
   "id": "6af019d8-282e-476e-8934-b8a2c8462e9e",
   "metadata": {},
   "source": [
    "### Сохранение признаков постов."
   ]
  },
  {
   "cell_type": "code",
   "execution_count": 9,
   "id": "c372d4c6-c117-440e-8e86-8cc3aa24b572",
   "metadata": {},
   "outputs": [],
   "source": [
    "if SAVE_DATA_TO_DB:\n",
    "    df_post_data.to_sql(POSTS_FEATURES_TABLE_NAME, \n",
    "                        con=connection_string, \n",
    "                        if_exists=\"replace\")"
   ]
  },
  {
   "cell_type": "code",
   "execution_count": 10,
   "id": "84ca0a28-63a2-4f63-9b58-fd6cbe661526",
   "metadata": {},
   "outputs": [],
   "source": [
    "if SAVE_DATA_TO_CSV:\n",
    "    df_post_data.to_csv(\"../data/post_features.csv\", index=False)"
   ]
  },
  {
   "cell_type": "code",
   "execution_count": 11,
   "id": "6e9a2efc-5243-475f-883a-e88d4a552430",
   "metadata": {},
   "outputs": [],
   "source": [
    "if SAVE_RAW_DATA_TO_CSV:\n",
    "    df_post_text_src.to_csv(\"../data/post_text.csv\", index=False)"
   ]
  },
  {
   "cell_type": "markdown",
   "id": "ade53c2c-cc87-41fc-a468-44fc80fe7543",
   "metadata": {},
   "source": [
    "### Сохранение признаков пользователей."
   ]
  },
  {
   "cell_type": "code",
   "execution_count": 12,
   "id": "9e78c1d6-409f-4f26-af82-b36cb5ede582",
   "metadata": {},
   "outputs": [],
   "source": [
    "if SAVE_DATA_TO_DB:\n",
    "    df_user_data.to_sql(USERS_FEATURES_TABLE_NAME, \n",
    "                        con=connection_string, \n",
    "                        if_exists=\"replace\")"
   ]
  },
  {
   "cell_type": "code",
   "execution_count": 13,
   "id": "e73b640c-0f94-4c54-bd42-b568ca3b688a",
   "metadata": {},
   "outputs": [],
   "source": [
    "if SAVE_DATA_TO_CSV:\n",
    "    df_user_data.to_csv('../data/user_features.csv', index=False)"
   ]
  },
  {
   "cell_type": "code",
   "execution_count": 14,
   "id": "e453b588-3f80-4152-9f79-78b7cf225433",
   "metadata": {},
   "outputs": [],
   "source": [
    "if SAVE_RAW_DATA_TO_CSV:\n",
    "    df_user_data_src.to_csv('../data/user_data.csv', index=False)"
   ]
  },
  {
   "cell_type": "markdown",
   "id": "e465e011-e7b6-4a49-b5e4-bfe3e54faacb",
   "metadata": {},
   "source": [
    "## Чтение данных из базы данных"
   ]
  },
  {
   "cell_type": "markdown",
   "id": "d3ea1407-d2c9-46f2-98e0-3bffb2d50c2f",
   "metadata": {},
   "source": [
    "### Чтение из базы признаков постов."
   ]
  },
  {
   "cell_type": "code",
   "execution_count": 15,
   "id": "be0e581a-27ac-43c3-9d14-7785aca59641",
   "metadata": {},
   "outputs": [
    {
     "data": {
      "text/html": [
       "<div>\n",
       "<style scoped>\n",
       "    .dataframe tbody tr th:only-of-type {\n",
       "        vertical-align: middle;\n",
       "    }\n",
       "\n",
       "    .dataframe tbody tr th {\n",
       "        vertical-align: top;\n",
       "    }\n",
       "\n",
       "    .dataframe thead th {\n",
       "        text-align: right;\n",
       "    }\n",
       "</style>\n",
       "<table border=\"1\" class=\"dataframe\">\n",
       "  <thead>\n",
       "    <tr style=\"text-align: right;\">\n",
       "      <th></th>\n",
       "      <th>post_id</th>\n",
       "      <th>topic</th>\n",
       "      <th>tfidf_mean</th>\n",
       "      <th>tfidf_max</th>\n",
       "    </tr>\n",
       "    <tr>\n",
       "      <th>index</th>\n",
       "      <th></th>\n",
       "      <th></th>\n",
       "      <th></th>\n",
       "      <th></th>\n",
       "    </tr>\n",
       "  </thead>\n",
       "  <tbody>\n",
       "    <tr>\n",
       "      <th>0</th>\n",
       "      <td>1</td>\n",
       "      <td>0.04743</td>\n",
       "      <td>0.627607</td>\n",
       "      <td>0.731115</td>\n",
       "    </tr>\n",
       "    <tr>\n",
       "      <th>1</th>\n",
       "      <td>2</td>\n",
       "      <td>0.04743</td>\n",
       "      <td>1.492879</td>\n",
       "      <td>-0.773927</td>\n",
       "    </tr>\n",
       "    <tr>\n",
       "      <th>2</th>\n",
       "      <td>3</td>\n",
       "      <td>0.04743</td>\n",
       "      <td>1.700723</td>\n",
       "      <td>-0.894502</td>\n",
       "    </tr>\n",
       "  </tbody>\n",
       "</table>\n",
       "</div>"
      ],
      "text/plain": [
       "       post_id    topic  tfidf_mean  tfidf_max\n",
       "index                                         \n",
       "0            1  0.04743    0.627607   0.731115\n",
       "1            2  0.04743    1.492879  -0.773927\n",
       "2            3  0.04743    1.700723  -0.894502"
      ]
     },
     "execution_count": 15,
     "metadata": {},
     "output_type": "execute_result"
    }
   ],
   "source": [
    "df_post_data_from_db = pd.read_sql(f\"SELECT * FROM {POSTS_FEATURES_TABLE_NAME}\",\n",
    "                                   index_col=\"index\",\n",
    "                                   con=connection_string)\n",
    "df_post_data_from_db.head(3)"
   ]
  },
  {
   "cell_type": "markdown",
   "id": "0fc0857f-4fcd-4038-86d6-87dfa83471c1",
   "metadata": {},
   "source": [
    "### Чтение из базы признаков пользователей."
   ]
  },
  {
   "cell_type": "code",
   "execution_count": 16,
   "id": "d0e059d9-97e9-4d90-921f-496457e95c32",
   "metadata": {},
   "outputs": [
    {
     "data": {
      "text/html": [
       "<div>\n",
       "<style scoped>\n",
       "    .dataframe tbody tr th:only-of-type {\n",
       "        vertical-align: middle;\n",
       "    }\n",
       "\n",
       "    .dataframe tbody tr th {\n",
       "        vertical-align: top;\n",
       "    }\n",
       "\n",
       "    .dataframe thead th {\n",
       "        text-align: right;\n",
       "    }\n",
       "</style>\n",
       "<table border=\"1\" class=\"dataframe\">\n",
       "  <thead>\n",
       "    <tr style=\"text-align: right;\">\n",
       "      <th></th>\n",
       "      <th>user_id</th>\n",
       "      <th>gender</th>\n",
       "      <th>age</th>\n",
       "      <th>country_and_city</th>\n",
       "      <th>exp_group</th>\n",
       "      <th>os_iOS</th>\n",
       "      <th>source_organic</th>\n",
       "    </tr>\n",
       "    <tr>\n",
       "      <th>index</th>\n",
       "      <th></th>\n",
       "      <th></th>\n",
       "      <th></th>\n",
       "      <th></th>\n",
       "      <th></th>\n",
       "      <th></th>\n",
       "      <th></th>\n",
       "    </tr>\n",
       "  </thead>\n",
       "  <tbody>\n",
       "    <tr>\n",
       "      <th>0</th>\n",
       "      <td>200</td>\n",
       "      <td>1</td>\n",
       "      <td>34</td>\n",
       "      <td>0.000869</td>\n",
       "      <td>3</td>\n",
       "      <td>0</td>\n",
       "      <td>0</td>\n",
       "    </tr>\n",
       "    <tr>\n",
       "      <th>1</th>\n",
       "      <td>201</td>\n",
       "      <td>0</td>\n",
       "      <td>37</td>\n",
       "      <td>0.010972</td>\n",
       "      <td>0</td>\n",
       "      <td>0</td>\n",
       "      <td>0</td>\n",
       "    </tr>\n",
       "    <tr>\n",
       "      <th>2</th>\n",
       "      <td>202</td>\n",
       "      <td>1</td>\n",
       "      <td>17</td>\n",
       "      <td>0.019796</td>\n",
       "      <td>4</td>\n",
       "      <td>0</td>\n",
       "      <td>0</td>\n",
       "    </tr>\n",
       "  </tbody>\n",
       "</table>\n",
       "</div>"
      ],
      "text/plain": [
       "       user_id  gender  age  country_and_city  exp_group  os_iOS  \\\n",
       "index                                                              \n",
       "0          200       1   34          0.000869          3       0   \n",
       "1          201       0   37          0.010972          0       0   \n",
       "2          202       1   17          0.019796          4       0   \n",
       "\n",
       "       source_organic  \n",
       "index                  \n",
       "0                   0  \n",
       "1                   0  \n",
       "2                   0  "
      ]
     },
     "execution_count": 16,
     "metadata": {},
     "output_type": "execute_result"
    }
   ],
   "source": [
    "df_user_data_from_db = pd.read_sql(f\"SELECT * FROM {USERS_FEATURES_TABLE_NAME}\", \n",
    "                                   index_col=\"index\",\n",
    "                                   con=connection_string)\n",
    "df_user_data_from_db.head(3)"
   ]
  },
  {
   "cell_type": "markdown",
   "id": "ecea8b23-6502-4d13-b951-62426c70a591",
   "metadata": {},
   "source": [
    "## Чтение данных об активности пользователей\n",
    "Данные об активности пользователей не требуют дополнительной обработки. Однако этих данных очень много. Поэтому имеет смысл выбрать небольшой фрагмент этих данных, который будет использоваться для обучения модели.  \n",
    "Для начала надо выяснить, сколько есть данных и за какой период.   "
   ]
  },
  {
   "cell_type": "code",
   "execution_count": 17,
   "id": "4c78c4eb-1000-47dc-8ca0-2669092c79dc",
   "metadata": {},
   "outputs": [
    {
     "data": {
      "text/html": [
       "<div>\n",
       "<style scoped>\n",
       "    .dataframe tbody tr th:only-of-type {\n",
       "        vertical-align: middle;\n",
       "    }\n",
       "\n",
       "    .dataframe tbody tr th {\n",
       "        vertical-align: top;\n",
       "    }\n",
       "\n",
       "    .dataframe thead th {\n",
       "        text-align: right;\n",
       "    }\n",
       "</style>\n",
       "<table border=\"1\" class=\"dataframe\">\n",
       "  <thead>\n",
       "    <tr style=\"text-align: right;\">\n",
       "      <th></th>\n",
       "      <th>rows_count</th>\n",
       "      <th>min_timestamp</th>\n",
       "      <th>max_timestamp</th>\n",
       "    </tr>\n",
       "  </thead>\n",
       "  <tbody>\n",
       "    <tr>\n",
       "      <th>0</th>\n",
       "      <td>68686455</td>\n",
       "      <td>2021-10-01 06:01:40</td>\n",
       "      <td>2021-12-29 23:51:06</td>\n",
       "    </tr>\n",
       "  </tbody>\n",
       "</table>\n",
       "</div>"
      ],
      "text/plain": [
       "   rows_count       min_timestamp       max_timestamp\n",
       "0    68686455 2021-10-01 06:01:40 2021-12-29 23:51:06"
      ]
     },
     "execution_count": 17,
     "metadata": {},
     "output_type": "execute_result"
    }
   ],
   "source": [
    "pd.read_sql(\"\"\"\n",
    "    SELECT COUNT(*) AS rows_count, \n",
    "        MIN(timestamp) AS min_timestamp, MAX(timestamp) AS max_timestamp \n",
    "    FROM public.feed_data WHERE action = 'view'\"\"\", con=connection_string)"
   ]
  },
  {
   "cell_type": "markdown",
   "id": "3858e6dd-4b5a-406e-a5ab-d4f9ecdb5a8f",
   "metadata": {},
   "source": [
    "Для обучения модели будут использоваться данные за первую неделю, т.е. до 08.10.2021."
   ]
  },
  {
   "cell_type": "code",
   "execution_count": 18,
   "id": "f996d546-3a11-4f84-bb01-618118364234",
   "metadata": {},
   "outputs": [
    {
     "name": "stdout",
     "output_type": "stream",
     "text": [
      "(5360381, 4)\n",
      "CPU times: user 24 s, sys: 3.92 s, total: 27.9 s\n",
      "Wall time: 1min 15s\n"
     ]
    },
    {
     "data": {
      "text/html": [
       "<div>\n",
       "<style scoped>\n",
       "    .dataframe tbody tr th:only-of-type {\n",
       "        vertical-align: middle;\n",
       "    }\n",
       "\n",
       "    .dataframe tbody tr th {\n",
       "        vertical-align: top;\n",
       "    }\n",
       "\n",
       "    .dataframe thead th {\n",
       "        text-align: right;\n",
       "    }\n",
       "</style>\n",
       "<table border=\"1\" class=\"dataframe\">\n",
       "  <thead>\n",
       "    <tr style=\"text-align: right;\">\n",
       "      <th></th>\n",
       "      <th>timestamp</th>\n",
       "      <th>user_id</th>\n",
       "      <th>post_id</th>\n",
       "      <th>target</th>\n",
       "    </tr>\n",
       "  </thead>\n",
       "  <tbody>\n",
       "    <tr>\n",
       "      <th>0</th>\n",
       "      <td>2021-10-01 06:01:40</td>\n",
       "      <td>1859</td>\n",
       "      <td>1498</td>\n",
       "      <td>1</td>\n",
       "    </tr>\n",
       "    <tr>\n",
       "      <th>1</th>\n",
       "      <td>2021-10-01 06:01:40</td>\n",
       "      <td>8663</td>\n",
       "      <td>3837</td>\n",
       "      <td>1</td>\n",
       "    </tr>\n",
       "    <tr>\n",
       "      <th>2</th>\n",
       "      <td>2021-10-01 06:01:40</td>\n",
       "      <td>15471</td>\n",
       "      <td>2810</td>\n",
       "      <td>0</td>\n",
       "    </tr>\n",
       "  </tbody>\n",
       "</table>\n",
       "</div>"
      ],
      "text/plain": [
       "            timestamp  user_id  post_id  target\n",
       "0 2021-10-01 06:01:40     1859     1498       1\n",
       "1 2021-10-01 06:01:40     8663     3837       1\n",
       "2 2021-10-01 06:01:40    15471     2810       0"
      ]
     },
     "execution_count": 18,
     "metadata": {},
     "output_type": "execute_result"
    }
   ],
   "source": [
    "%%time\n",
    "df_feed_data = pd.read_sql(\n",
    "    \"\"\"\n",
    "    SELECT\n",
    "        timestamp,\n",
    "        user_id,\n",
    "        post_id,\n",
    "        target\n",
    "    FROM public.feed_data\n",
    "    WHERE action = 'view'\n",
    "        AND timestamp < '2021-10-08'\n",
    "    \"\"\",\n",
    "    con=connection_string\n",
    ")\n",
    "\n",
    "df_feed_data = df_feed_data.sort_values([\"timestamp\", \"user_id\"]).reset_index(drop=True)\n",
    "print(df_feed_data.shape)\n",
    "df_feed_data.head(3)"
   ]
  },
  {
   "cell_type": "code",
   "execution_count": 19,
   "id": "d1dc190c-e4e7-407f-8e65-f006ebb7e440",
   "metadata": {},
   "outputs": [],
   "source": [
    "if SAVE_RAW_DATA_TO_CSV:\n",
    "    df_feed_data.to_csv('../data/feed_data.csv', index=False)"
   ]
  }
 ],
 "metadata": {
  "kernelspec": {
   "display_name": "Python 3 (ipykernel)",
   "language": "python",
   "name": "python3"
  },
  "language_info": {
   "codemirror_mode": {
    "name": "ipython",
    "version": 3
   },
   "file_extension": ".py",
   "mimetype": "text/x-python",
   "name": "python",
   "nbconvert_exporter": "python",
   "pygments_lexer": "ipython3",
   "version": "3.10.12"
  }
 },
 "nbformat": 4,
 "nbformat_minor": 5
}
