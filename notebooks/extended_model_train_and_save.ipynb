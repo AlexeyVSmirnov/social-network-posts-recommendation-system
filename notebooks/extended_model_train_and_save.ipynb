{
 "cells": [
  {
   "cell_type": "markdown",
   "id": "e8a19b21-a9c8-4e5f-9718-1e9850bccc71",
   "metadata": {},
   "source": [
    "# Обучение модели\n",
    "В этом ноутбуке выполняется обучение модели на признаках, полученных в ноутбуках `prepare_and_save_features.ipynb` и `get_extended_posts_features.ipynb`.\n",
    "Цель обучения - создать модель классификации, прогнозирующей, понравится ли пользователю с определенными характеристиками пост с его определенными характеристиками. "
   ]
  },
  {
   "cell_type": "code",
   "execution_count": 1,
   "id": "b690fb6e-8a34-44b9-a5e1-b47fe70302dd",
   "metadata": {},
   "outputs": [],
   "source": [
    "import pandas as pd\n",
    "import numpy as np\n",
    "import datetime as dt\n",
    "from dotenv import dotenv_values\n",
    "from sklearn.metrics import recall_score, precision_score, f1_score\n",
    "from catboost import CatBoostClassifier\n",
    "\n",
    "\n",
    "RND_STATE = 2024\n",
    "TEST_ROWS_COUNT = 300000\n",
    "SAVE_MODEL_TO_FILE = False\n",
    "SAVE_POSTS_DATA_TO_CSV = False\n",
    "SAVE_POSTS_DATA_TO_DB = False"
   ]
  },
  {
   "cell_type": "code",
   "execution_count": 2,
   "id": "d544838a-a4b7-4dc4-88b6-854372478c07",
   "metadata": {},
   "outputs": [],
   "source": [
    "env_dict = dotenv_values(\"../creds/.env\")\n",
    "MODEL_FILE_NAME = env_dict.get(\"KC_STARTML_EXTENDED_MODEL_FILE\", \n",
    "                               f\"catboost_extended_model_{dt.datetime.now()}\"\n",
    "                               .split(\".\")[0]\n",
    "                               .replace(\" \", \"_\")\n",
    "                               .replace(\":\", \"_\"))"
   ]
  },
  {
   "cell_type": "markdown",
   "id": "405e599a-7f8d-4c4d-b894-9718c969a057",
   "metadata": {},
   "source": [
    "## Загрузка подготовленных данных\n",
    "Перед загрузкой данных с признаками надо сначала выполнить все действия в ноутбуке `prepare_and_save_features.ipynb`, предварительно поставив флаг `SAVE_DATA_TO_CSV = True`, а затем в ноутбуке `get_extended_posts_features.ipynb` для получения расширенного набора признаков для постов."
   ]
  },
  {
   "cell_type": "code",
   "execution_count": 3,
   "id": "44a16907-39e2-4c26-881e-a42879c614e6",
   "metadata": {},
   "outputs": [
    {
     "data": {
      "text/html": [
       "<div>\n",
       "<style scoped>\n",
       "    .dataframe tbody tr th:only-of-type {\n",
       "        vertical-align: middle;\n",
       "    }\n",
       "\n",
       "    .dataframe tbody tr th {\n",
       "        vertical-align: top;\n",
       "    }\n",
       "\n",
       "    .dataframe thead th {\n",
       "        text-align: right;\n",
       "    }\n",
       "</style>\n",
       "<table border=\"1\" class=\"dataframe\">\n",
       "  <thead>\n",
       "    <tr style=\"text-align: right;\">\n",
       "      <th></th>\n",
       "      <th>user_id</th>\n",
       "      <th>gender</th>\n",
       "      <th>age</th>\n",
       "      <th>country_and_city</th>\n",
       "      <th>exp_group</th>\n",
       "      <th>os_iOS</th>\n",
       "      <th>source_organic</th>\n",
       "    </tr>\n",
       "  </thead>\n",
       "  <tbody>\n",
       "    <tr>\n",
       "      <th>0</th>\n",
       "      <td>200</td>\n",
       "      <td>1</td>\n",
       "      <td>34</td>\n",
       "      <td>0.000869</td>\n",
       "      <td>3</td>\n",
       "      <td>0</td>\n",
       "      <td>0</td>\n",
       "    </tr>\n",
       "    <tr>\n",
       "      <th>1</th>\n",
       "      <td>201</td>\n",
       "      <td>0</td>\n",
       "      <td>37</td>\n",
       "      <td>0.010972</td>\n",
       "      <td>0</td>\n",
       "      <td>0</td>\n",
       "      <td>0</td>\n",
       "    </tr>\n",
       "    <tr>\n",
       "      <th>2</th>\n",
       "      <td>202</td>\n",
       "      <td>1</td>\n",
       "      <td>17</td>\n",
       "      <td>0.019796</td>\n",
       "      <td>4</td>\n",
       "      <td>0</td>\n",
       "      <td>0</td>\n",
       "    </tr>\n",
       "  </tbody>\n",
       "</table>\n",
       "</div>"
      ],
      "text/plain": [
       "   user_id  gender  age  country_and_city  exp_group  os_iOS  source_organic\n",
       "0      200       1   34          0.000869          3       0               0\n",
       "1      201       0   37          0.010972          0       0               0\n",
       "2      202       1   17          0.019796          4       0               0"
      ]
     },
     "execution_count": 3,
     "metadata": {},
     "output_type": "execute_result"
    }
   ],
   "source": [
    "df_user_data = pd.read_csv(\"../data/user_features.csv\")\n",
    "df_user_data.head(3)"
   ]
  },
  {
   "cell_type": "code",
   "execution_count": 4,
   "id": "827fd2a3-ee5d-4bec-acb7-b4629fba8351",
   "metadata": {},
   "outputs": [
    {
     "data": {
      "text/html": [
       "<div>\n",
       "<style scoped>\n",
       "    .dataframe tbody tr th:only-of-type {\n",
       "        vertical-align: middle;\n",
       "    }\n",
       "\n",
       "    .dataframe tbody tr th {\n",
       "        vertical-align: top;\n",
       "    }\n",
       "\n",
       "    .dataframe thead th {\n",
       "        text-align: right;\n",
       "    }\n",
       "</style>\n",
       "<table border=\"1\" class=\"dataframe\">\n",
       "  <thead>\n",
       "    <tr style=\"text-align: right;\">\n",
       "      <th></th>\n",
       "      <th>post_id</th>\n",
       "      <th>topic</th>\n",
       "      <th>tfidf_mean</th>\n",
       "      <th>tfidf_max</th>\n",
       "    </tr>\n",
       "  </thead>\n",
       "  <tbody>\n",
       "    <tr>\n",
       "      <th>0</th>\n",
       "      <td>1</td>\n",
       "      <td>0.04743</td>\n",
       "      <td>0.627607</td>\n",
       "      <td>0.731115</td>\n",
       "    </tr>\n",
       "    <tr>\n",
       "      <th>1</th>\n",
       "      <td>2</td>\n",
       "      <td>0.04743</td>\n",
       "      <td>1.492879</td>\n",
       "      <td>-0.773927</td>\n",
       "    </tr>\n",
       "    <tr>\n",
       "      <th>2</th>\n",
       "      <td>3</td>\n",
       "      <td>0.04743</td>\n",
       "      <td>1.700723</td>\n",
       "      <td>-0.894502</td>\n",
       "    </tr>\n",
       "  </tbody>\n",
       "</table>\n",
       "</div>"
      ],
      "text/plain": [
       "   post_id    topic  tfidf_mean  tfidf_max\n",
       "0        1  0.04743    0.627607   0.731115\n",
       "1        2  0.04743    1.492879  -0.773927\n",
       "2        3  0.04743    1.700723  -0.894502"
      ]
     },
     "execution_count": 4,
     "metadata": {},
     "output_type": "execute_result"
    }
   ],
   "source": [
    "df_post_data = pd.read_csv(\"../data/post_features.csv\")\n",
    "df_post_data.head(3)"
   ]
  },
  {
   "cell_type": "code",
   "execution_count": 5,
   "id": "cd79bf46-88cc-4496-ac3b-757bb1ff6ea4",
   "metadata": {},
   "outputs": [
    {
     "data": {
      "text/html": [
       "<div>\n",
       "<style scoped>\n",
       "    .dataframe tbody tr th:only-of-type {\n",
       "        vertical-align: middle;\n",
       "    }\n",
       "\n",
       "    .dataframe tbody tr th {\n",
       "        vertical-align: top;\n",
       "    }\n",
       "\n",
       "    .dataframe thead th {\n",
       "        text-align: right;\n",
       "    }\n",
       "</style>\n",
       "<table border=\"1\" class=\"dataframe\">\n",
       "  <thead>\n",
       "    <tr style=\"text-align: right;\">\n",
       "      <th></th>\n",
       "      <th>post_id</th>\n",
       "      <th>d2v_1</th>\n",
       "      <th>d2v_2</th>\n",
       "      <th>d2v_3</th>\n",
       "      <th>d2v_4</th>\n",
       "      <th>d2v_5</th>\n",
       "      <th>d2v_6</th>\n",
       "      <th>d2v_7</th>\n",
       "      <th>d2v_8</th>\n",
       "      <th>d2v_9</th>\n",
       "      <th>...</th>\n",
       "      <th>d2v_11</th>\n",
       "      <th>d2v_12</th>\n",
       "      <th>d2v_13</th>\n",
       "      <th>d2v_14</th>\n",
       "      <th>d2v_15</th>\n",
       "      <th>d2v_16</th>\n",
       "      <th>d2v_17</th>\n",
       "      <th>d2v_18</th>\n",
       "      <th>d2v_19</th>\n",
       "      <th>d2v_20</th>\n",
       "    </tr>\n",
       "  </thead>\n",
       "  <tbody>\n",
       "    <tr>\n",
       "      <th>0</th>\n",
       "      <td>1</td>\n",
       "      <td>-5.696737</td>\n",
       "      <td>3.600629</td>\n",
       "      <td>1.888588</td>\n",
       "      <td>4.697815</td>\n",
       "      <td>-5.616477</td>\n",
       "      <td>-11.314406</td>\n",
       "      <td>4.154247</td>\n",
       "      <td>12.685128</td>\n",
       "      <td>-5.646606</td>\n",
       "      <td>...</td>\n",
       "      <td>2.846017</td>\n",
       "      <td>0.421474</td>\n",
       "      <td>-0.325882</td>\n",
       "      <td>-0.623480</td>\n",
       "      <td>-0.075401</td>\n",
       "      <td>6.569971</td>\n",
       "      <td>-3.440696</td>\n",
       "      <td>0.225233</td>\n",
       "      <td>2.801830</td>\n",
       "      <td>-3.116241</td>\n",
       "    </tr>\n",
       "    <tr>\n",
       "      <th>1</th>\n",
       "      <td>2</td>\n",
       "      <td>0.725621</td>\n",
       "      <td>-2.183182</td>\n",
       "      <td>-3.711747</td>\n",
       "      <td>-1.569358</td>\n",
       "      <td>-4.500835</td>\n",
       "      <td>-3.644571</td>\n",
       "      <td>4.032551</td>\n",
       "      <td>3.127399</td>\n",
       "      <td>-5.547462</td>\n",
       "      <td>...</td>\n",
       "      <td>-1.159752</td>\n",
       "      <td>0.315606</td>\n",
       "      <td>-0.859167</td>\n",
       "      <td>-0.523222</td>\n",
       "      <td>-1.368132</td>\n",
       "      <td>3.444111</td>\n",
       "      <td>2.810560</td>\n",
       "      <td>-1.729794</td>\n",
       "      <td>-0.331542</td>\n",
       "      <td>-1.127183</td>\n",
       "    </tr>\n",
       "    <tr>\n",
       "      <th>2</th>\n",
       "      <td>3</td>\n",
       "      <td>-4.928478</td>\n",
       "      <td>0.950420</td>\n",
       "      <td>4.643132</td>\n",
       "      <td>3.792058</td>\n",
       "      <td>-7.631810</td>\n",
       "      <td>-4.393818</td>\n",
       "      <td>4.179424</td>\n",
       "      <td>6.589443</td>\n",
       "      <td>-8.521201</td>\n",
       "      <td>...</td>\n",
       "      <td>3.551821</td>\n",
       "      <td>-3.042779</td>\n",
       "      <td>5.222722</td>\n",
       "      <td>1.212748</td>\n",
       "      <td>0.734874</td>\n",
       "      <td>5.775930</td>\n",
       "      <td>3.756821</td>\n",
       "      <td>-2.572037</td>\n",
       "      <td>5.106787</td>\n",
       "      <td>-4.602608</td>\n",
       "    </tr>\n",
       "  </tbody>\n",
       "</table>\n",
       "<p>3 rows × 21 columns</p>\n",
       "</div>"
      ],
      "text/plain": [
       "   post_id     d2v_1     d2v_2     d2v_3     d2v_4     d2v_5      d2v_6  \\\n",
       "0        1 -5.696737  3.600629  1.888588  4.697815 -5.616477 -11.314406   \n",
       "1        2  0.725621 -2.183182 -3.711747 -1.569358 -4.500835  -3.644571   \n",
       "2        3 -4.928478  0.950420  4.643132  3.792058 -7.631810  -4.393818   \n",
       "\n",
       "      d2v_7      d2v_8     d2v_9  ...    d2v_11    d2v_12    d2v_13    d2v_14  \\\n",
       "0  4.154247  12.685128 -5.646606  ...  2.846017  0.421474 -0.325882 -0.623480   \n",
       "1  4.032551   3.127399 -5.547462  ... -1.159752  0.315606 -0.859167 -0.523222   \n",
       "2  4.179424   6.589443 -8.521201  ...  3.551821 -3.042779  5.222722  1.212748   \n",
       "\n",
       "     d2v_15    d2v_16    d2v_17    d2v_18    d2v_19    d2v_20  \n",
       "0 -0.075401  6.569971 -3.440696  0.225233  2.801830 -3.116241  \n",
       "1 -1.368132  3.444111  2.810560 -1.729794 -0.331542 -1.127183  \n",
       "2  0.734874  5.775930  3.756821 -2.572037  5.106787 -4.602608  \n",
       "\n",
       "[3 rows x 21 columns]"
      ]
     },
     "execution_count": 5,
     "metadata": {},
     "output_type": "execute_result"
    }
   ],
   "source": [
    "df_post_d2v = pd.read_csv(\"../data/post_features_d2v.csv\")\n",
    "df_post_d2v.head(3)"
   ]
  },
  {
   "cell_type": "code",
   "execution_count": 6,
   "id": "f2e198b9-9fc6-47c5-994c-1f1da3364865",
   "metadata": {},
   "outputs": [
    {
     "data": {
      "text/html": [
       "<div>\n",
       "<style scoped>\n",
       "    .dataframe tbody tr th:only-of-type {\n",
       "        vertical-align: middle;\n",
       "    }\n",
       "\n",
       "    .dataframe tbody tr th {\n",
       "        vertical-align: top;\n",
       "    }\n",
       "\n",
       "    .dataframe thead th {\n",
       "        text-align: right;\n",
       "    }\n",
       "</style>\n",
       "<table border=\"1\" class=\"dataframe\">\n",
       "  <thead>\n",
       "    <tr style=\"text-align: right;\">\n",
       "      <th></th>\n",
       "      <th>post_id</th>\n",
       "      <th>topic</th>\n",
       "      <th>tfidf_mean</th>\n",
       "      <th>tfidf_max</th>\n",
       "      <th>d2v_1</th>\n",
       "      <th>d2v_2</th>\n",
       "      <th>d2v_3</th>\n",
       "      <th>d2v_4</th>\n",
       "      <th>d2v_5</th>\n",
       "      <th>d2v_6</th>\n",
       "      <th>...</th>\n",
       "      <th>d2v_11</th>\n",
       "      <th>d2v_12</th>\n",
       "      <th>d2v_13</th>\n",
       "      <th>d2v_14</th>\n",
       "      <th>d2v_15</th>\n",
       "      <th>d2v_16</th>\n",
       "      <th>d2v_17</th>\n",
       "      <th>d2v_18</th>\n",
       "      <th>d2v_19</th>\n",
       "      <th>d2v_20</th>\n",
       "    </tr>\n",
       "  </thead>\n",
       "  <tbody>\n",
       "    <tr>\n",
       "      <th>0</th>\n",
       "      <td>1</td>\n",
       "      <td>0.04743</td>\n",
       "      <td>0.627607</td>\n",
       "      <td>0.731115</td>\n",
       "      <td>-5.696737</td>\n",
       "      <td>3.600629</td>\n",
       "      <td>1.888588</td>\n",
       "      <td>4.697815</td>\n",
       "      <td>-5.616477</td>\n",
       "      <td>-11.314406</td>\n",
       "      <td>...</td>\n",
       "      <td>2.846017</td>\n",
       "      <td>0.421474</td>\n",
       "      <td>-0.325882</td>\n",
       "      <td>-0.623480</td>\n",
       "      <td>-0.075401</td>\n",
       "      <td>6.569971</td>\n",
       "      <td>-3.440696</td>\n",
       "      <td>0.225233</td>\n",
       "      <td>2.801830</td>\n",
       "      <td>-3.116241</td>\n",
       "    </tr>\n",
       "    <tr>\n",
       "      <th>1</th>\n",
       "      <td>2</td>\n",
       "      <td>0.04743</td>\n",
       "      <td>1.492879</td>\n",
       "      <td>-0.773927</td>\n",
       "      <td>0.725621</td>\n",
       "      <td>-2.183182</td>\n",
       "      <td>-3.711747</td>\n",
       "      <td>-1.569358</td>\n",
       "      <td>-4.500835</td>\n",
       "      <td>-3.644571</td>\n",
       "      <td>...</td>\n",
       "      <td>-1.159752</td>\n",
       "      <td>0.315606</td>\n",
       "      <td>-0.859167</td>\n",
       "      <td>-0.523222</td>\n",
       "      <td>-1.368132</td>\n",
       "      <td>3.444111</td>\n",
       "      <td>2.810560</td>\n",
       "      <td>-1.729794</td>\n",
       "      <td>-0.331542</td>\n",
       "      <td>-1.127183</td>\n",
       "    </tr>\n",
       "    <tr>\n",
       "      <th>2</th>\n",
       "      <td>3</td>\n",
       "      <td>0.04743</td>\n",
       "      <td>1.700723</td>\n",
       "      <td>-0.894502</td>\n",
       "      <td>-4.928478</td>\n",
       "      <td>0.950420</td>\n",
       "      <td>4.643132</td>\n",
       "      <td>3.792058</td>\n",
       "      <td>-7.631810</td>\n",
       "      <td>-4.393818</td>\n",
       "      <td>...</td>\n",
       "      <td>3.551821</td>\n",
       "      <td>-3.042779</td>\n",
       "      <td>5.222722</td>\n",
       "      <td>1.212748</td>\n",
       "      <td>0.734874</td>\n",
       "      <td>5.775930</td>\n",
       "      <td>3.756821</td>\n",
       "      <td>-2.572037</td>\n",
       "      <td>5.106787</td>\n",
       "      <td>-4.602608</td>\n",
       "    </tr>\n",
       "  </tbody>\n",
       "</table>\n",
       "<p>3 rows × 24 columns</p>\n",
       "</div>"
      ],
      "text/plain": [
       "   post_id    topic  tfidf_mean  tfidf_max     d2v_1     d2v_2     d2v_3  \\\n",
       "0        1  0.04743    0.627607   0.731115 -5.696737  3.600629  1.888588   \n",
       "1        2  0.04743    1.492879  -0.773927  0.725621 -2.183182 -3.711747   \n",
       "2        3  0.04743    1.700723  -0.894502 -4.928478  0.950420  4.643132   \n",
       "\n",
       "      d2v_4     d2v_5      d2v_6  ...    d2v_11    d2v_12    d2v_13    d2v_14  \\\n",
       "0  4.697815 -5.616477 -11.314406  ...  2.846017  0.421474 -0.325882 -0.623480   \n",
       "1 -1.569358 -4.500835  -3.644571  ... -1.159752  0.315606 -0.859167 -0.523222   \n",
       "2  3.792058 -7.631810  -4.393818  ...  3.551821 -3.042779  5.222722  1.212748   \n",
       "\n",
       "     d2v_15    d2v_16    d2v_17    d2v_18    d2v_19    d2v_20  \n",
       "0 -0.075401  6.569971 -3.440696  0.225233  2.801830 -3.116241  \n",
       "1 -1.368132  3.444111  2.810560 -1.729794 -0.331542 -1.127183  \n",
       "2  0.734874  5.775930  3.756821 -2.572037  5.106787 -4.602608  \n",
       "\n",
       "[3 rows x 24 columns]"
      ]
     },
     "execution_count": 6,
     "metadata": {},
     "output_type": "execute_result"
    }
   ],
   "source": [
    "df_post_data = df_post_data.merge(df_post_d2v, on=\"post_id\")\n",
    "df_post_data.head(3)"
   ]
  },
  {
   "cell_type": "code",
   "execution_count": 7,
   "id": "b87d10f0-25ae-4e6d-baf0-90c6989041ea",
   "metadata": {},
   "outputs": [
    {
     "data": {
      "text/html": [
       "<div>\n",
       "<style scoped>\n",
       "    .dataframe tbody tr th:only-of-type {\n",
       "        vertical-align: middle;\n",
       "    }\n",
       "\n",
       "    .dataframe tbody tr th {\n",
       "        vertical-align: top;\n",
       "    }\n",
       "\n",
       "    .dataframe thead th {\n",
       "        text-align: right;\n",
       "    }\n",
       "</style>\n",
       "<table border=\"1\" class=\"dataframe\">\n",
       "  <thead>\n",
       "    <tr style=\"text-align: right;\">\n",
       "      <th></th>\n",
       "      <th>timestamp</th>\n",
       "      <th>user_id</th>\n",
       "      <th>post_id</th>\n",
       "      <th>target</th>\n",
       "    </tr>\n",
       "  </thead>\n",
       "  <tbody>\n",
       "    <tr>\n",
       "      <th>0</th>\n",
       "      <td>2021-10-01 06:01:40</td>\n",
       "      <td>1859</td>\n",
       "      <td>1498</td>\n",
       "      <td>1</td>\n",
       "    </tr>\n",
       "    <tr>\n",
       "      <th>1</th>\n",
       "      <td>2021-10-01 06:01:40</td>\n",
       "      <td>8663</td>\n",
       "      <td>3837</td>\n",
       "      <td>1</td>\n",
       "    </tr>\n",
       "    <tr>\n",
       "      <th>2</th>\n",
       "      <td>2021-10-01 06:01:40</td>\n",
       "      <td>15471</td>\n",
       "      <td>2810</td>\n",
       "      <td>0</td>\n",
       "    </tr>\n",
       "  </tbody>\n",
       "</table>\n",
       "</div>"
      ],
      "text/plain": [
       "             timestamp  user_id  post_id  target\n",
       "0  2021-10-01 06:01:40     1859     1498       1\n",
       "1  2021-10-01 06:01:40     8663     3837       1\n",
       "2  2021-10-01 06:01:40    15471     2810       0"
      ]
     },
     "execution_count": 7,
     "metadata": {},
     "output_type": "execute_result"
    }
   ],
   "source": [
    "df_feed_data = pd.read_csv(\"../data/feed_data.csv\")\n",
    "df_feed_data.head(3)"
   ]
  },
  {
   "cell_type": "markdown",
   "id": "8b6b2f8f-5691-4d0e-8be8-7a671fb67a5f",
   "metadata": {},
   "source": [
    "## Объединение данных в один DataFrame"
   ]
  },
  {
   "cell_type": "code",
   "execution_count": 8,
   "id": "6a6dc634-b016-4630-9b12-4aa15833e037",
   "metadata": {},
   "outputs": [],
   "source": [
    "df_views_data = (df_feed_data\n",
    "                .merge(df_user_data, on=\"user_id\")\n",
    "                .merge(df_post_data, on=\"post_id\")).sort_values(\"timestamp\").reset_index(drop=True)\n",
    "del df_feed_data"
   ]
  },
  {
   "cell_type": "code",
   "execution_count": 9,
   "id": "5c48281f-150f-457e-9314-8bb578e33a43",
   "metadata": {},
   "outputs": [
    {
     "name": "stdout",
     "output_type": "stream",
     "text": [
      "Количества значений целевой переменной:\n",
      "0    4861763\n",
      "1     498618\n",
      "Name: target, dtype: int64\n",
      "Баланс классов: 0.1026\n"
     ]
    }
   ],
   "source": [
    "target_counts = df_views_data.target.value_counts()\n",
    "print(f\"Количества значений целевой переменной:\\n{target_counts}\")\n",
    "print(f\"Баланс классов: {target_counts[1] / target_counts[0]:.4f}\")\n",
    "del target_counts"
   ]
  },
  {
   "cell_type": "markdown",
   "id": "c288352d-cb65-4f51-ad79-e921e1326d66",
   "metadata": {},
   "source": [
    "## Создание моделей"
   ]
  },
  {
   "cell_type": "markdown",
   "id": "5ad7ee94-8959-4e2e-9184-696196f11fe4",
   "metadata": {},
   "source": [
    "### Деление данных на тренировочные и тестовые"
   ]
  },
  {
   "cell_type": "code",
   "execution_count": 10,
   "id": "1960d1a0-f77e-43b0-b7c4-497e7addde53",
   "metadata": {},
   "outputs": [],
   "source": [
    "X_train = df_views_data.iloc[:-TEST_ROWS_COUNT, :].drop([\"target\", \"post_id\", \"user_id\", \"timestamp\"], axis=1)\n",
    "y_train = df_views_data.iloc[:-TEST_ROWS_COUNT, :][\"target\"]\n",
    "X_test = df_views_data.iloc[-TEST_ROWS_COUNT:, :].drop([\"target\", \"post_id\", \"user_id\", \"timestamp\"], axis=1)\n",
    "y_test = df_views_data.iloc[-TEST_ROWS_COUNT:, :][\"target\"]"
   ]
  },
  {
   "cell_type": "code",
   "execution_count": 11,
   "id": "32bbe1fa-954d-43ac-a768-3ae58de8839c",
   "metadata": {},
   "outputs": [],
   "source": [
    "def print_model_scores(model, X_train, X_test, y_train, y_test):\n",
    "    \"\"\"\n",
    "    Печать величин Precision, Recall и F1-score переданной модели\n",
    "    по переданным тренировочным и тестовым данным\n",
    "    \"\"\"\n",
    "    pred_train = model.predict(X_train)\n",
    "    print(f\"Train Precision: {precision_score(y_train, pred_train):.4}\")\n",
    "    print(f\"Train Recall: {recall_score(y_train, pred_train):.4}\")\n",
    "    print(f\"Train F1-score: {f1_score(y_train, pred_train):.4}\")\n",
    "    print(\"\")\n",
    "    pred_test = model.predict(X_test)\n",
    "    print(f\"Precision: {precision_score(y_test, pred_test):.4}\")\n",
    "    print(f\"Recall: {recall_score(y_test, pred_test):.4}\")\n",
    "    print(f\"F1-score: {f1_score(y_test, pred_test):.4}\")\n"
   ]
  },
  {
   "cell_type": "code",
   "execution_count": 12,
   "id": "7ad77e3f-cf58-4a2b-a524-87409208cee4",
   "metadata": {},
   "outputs": [],
   "source": [
    "def get_final_metric_value(model, test_data, k=5):\n",
    "    \"\"\"\n",
    "    Функция измерения финальной метрики HitRate@k\n",
    "    переданной модели, по переданным тестовым данным\n",
    "    \"\"\"\n",
    "    data = test_data.copy()\n",
    "    X_test_data = data.drop([\"target\", \"post_id\", \"user_id\", \"timestamp\"], axis=1)\n",
    "    y_test_date = data.target\n",
    "\n",
    "    X_test_data[\"pred\"] = model.predict_proba(X_test_data)[:, 1]\n",
    "    X_test_data[\"target\"] = y_test_date\n",
    "    X_test_data[\"user_id\"] = data[\"user_id\"]\n",
    "    X_test_data[\"post_id\"] = data[\"post_id\"]\n",
    "\n",
    "    users_hitrate = []\n",
    "    \n",
    "    for user in X_test_data[\"user_id\"].unique():\n",
    "        part = X_test_data[X_test_data[\"user_id\"]==user]\n",
    "        part = part.sort_values(\"pred\", ascending=False)\n",
    "        part = part.reset_index()\n",
    "        user_hitrate =  part.target[:k].max()\n",
    "        users_hitrate.append(user_hitrate)\n",
    "        \n",
    "    result = np.mean(users_hitrate)\n",
    "    print(f\"Среднее HitRate@{k} по пользователям из теста: {result}\")\n",
    "    \n",
    "    return result"
   ]
  },
  {
   "cell_type": "markdown",
   "id": "3fab6e71-15bc-4285-9e65-20bf8cdd6e96",
   "metadata": {},
   "source": [
    "### Модель CatBoost"
   ]
  },
  {
   "cell_type": "markdown",
   "id": "c0ef97b6-9158-44ea-875d-72f889e5064f",
   "metadata": {},
   "source": [
    "#### Обучение финальной модели"
   ]
  },
  {
   "cell_type": "code",
   "execution_count": 13,
   "id": "cbbe01e5-aa53-4907-baaa-35acf30b4efe",
   "metadata": {},
   "outputs": [
    {
     "name": "stdout",
     "output_type": "stream",
     "text": [
      "Train Precision: 0.1577\n",
      "Train Recall: 0.7093\n",
      "Train F1-score: 0.258\n",
      "\n",
      "Precision: 0.1771\n",
      "Recall: 0.6746\n",
      "F1-score: 0.2806\n",
      "CPU times: user 44min 1s, sys: 17.7 s, total: 44min 19s\n",
      "Wall time: 13min 47s\n"
     ]
    }
   ],
   "source": [
    "%%time\n",
    "model = CatBoostClassifier(random_seed=RND_STATE, verbose=False, \n",
    "                          class_weights = {0: 1, 1:10},\n",
    "                          iterations=1000,\n",
    "                          l2_leaf_reg=1,\n",
    "                          learning_rate=0.4,\n",
    "                          depth=4)\n",
    "model.fit(X_train, y_train)\n",
    "\n",
    "print_model_scores(model, X_train, X_test, y_train, y_test)"
   ]
  },
  {
   "cell_type": "markdown",
   "id": "42186b4c-b28e-456a-8868-45356faab92c",
   "metadata": {},
   "source": [
    "#### Измерение финальной метрики"
   ]
  },
  {
   "cell_type": "code",
   "execution_count": 14,
   "id": "8778d393-3a4c-4ac7-b872-a8de6e40804b",
   "metadata": {},
   "outputs": [
    {
     "name": "stdout",
     "output_type": "stream",
     "text": [
      "Среднее HitRate@5 по пользователям из теста: 0.5656455142231948\n"
     ]
    },
    {
     "data": {
      "text/plain": [
       "0.5656455142231948"
      ]
     },
     "execution_count": 14,
     "metadata": {},
     "output_type": "execute_result"
    }
   ],
   "source": [
    "get_final_metric_value(model, \n",
    "                       df_views_data.iloc[-TEST_ROWS_COUNT:, :], \n",
    "                       k=5)"
   ]
  },
  {
   "cell_type": "markdown",
   "id": "d5541a9a-8ea5-4353-8286-203a06e48a8f",
   "metadata": {},
   "source": [
    "## Сохранение модели в файл ## "
   ]
  },
  {
   "cell_type": "code",
   "execution_count": 15,
   "id": "29cd89df-5006-4567-9c49-d8b68c24fd93",
   "metadata": {},
   "outputs": [],
   "source": [
    "if SAVE_MODEL_TO_FILE:\n",
    "    model.save_model(f\"../models/{MODEL_FILE_NAME}\", format=\"cbm\")"
   ]
  },
  {
   "cell_type": "markdown",
   "id": "f9f82f87-5f06-4573-be59-c78cbff7188e",
   "metadata": {},
   "source": [
    "## Сохранение данных"
   ]
  },
  {
   "cell_type": "markdown",
   "id": "98040a5c-0778-4926-a915-5c78500a6c64",
   "metadata": {},
   "source": [
    "### Сохранение расширенных признаков постов."
   ]
  },
  {
   "cell_type": "code",
   "execution_count": 16,
   "id": "4b43c4db-954f-45a8-a486-4c9b58570bbc",
   "metadata": {},
   "outputs": [],
   "source": [
    "if SAVE_POSTS_DATA_TO_CSV:\n",
    "    df_post_data.to_csv(\"../data/post_features_extended.csv\", index=False)"
   ]
  },
  {
   "cell_type": "code",
   "execution_count": 17,
   "id": "7d1a3eb3-2e8c-4f8c-940f-afb6a5d12eab",
   "metadata": {},
   "outputs": [],
   "source": [
    "if SAVE_POSTS_DATA_TO_DB:\n",
    "    env_dict = dotenv_values(\"../creds/.env\")\n",
    "    \n",
    "    server = env_dict.get(\"KC_STARTML_POSTGRES_SERVER\", \"\")\n",
    "    port = env_dict.get(\"KC_STARTML_POSTGRES_PORT\")\n",
    "    db_name = env_dict.get(\"KC_STARTML_POSTGRES_DB\")\n",
    "    user = env_dict.get(\"KC_STARTML_POSTGRES_USER\", \"\")\n",
    "    password = env_dict.get(\"KC_STARTML_POSTGRES_PASSWORD\")\n",
    "    \n",
    "    password = (\":\" + password) if password else \"\"\n",
    "    port = (\":\" + port) if port else \"\"\n",
    "    db_name = (\"/\" + db_name) if db_name else \"\"\n",
    "    \n",
    "    connection_string = f\"postgresql://{user}{password}@{server}{port}{db_name}\"\n",
    "\n",
    "    posts_features_ext_table = env_dict.get(\"KC_STARTML_POSTS_FEATURES_EXT_TABLE\", \"\")\n",
    "\n",
    "    df_post_data.to_sql(posts_features_ext_table, \n",
    "                        con=connection_string, \n",
    "                        if_exists=\"replace\")\n",
    "    "
   ]
  }
 ],
 "metadata": {
  "kernelspec": {
   "display_name": "Python 3 (ipykernel)",
   "language": "python",
   "name": "python3"
  },
  "language_info": {
   "codemirror_mode": {
    "name": "ipython",
    "version": 3
   },
   "file_extension": ".py",
   "mimetype": "text/x-python",
   "name": "python",
   "nbconvert_exporter": "python",
   "pygments_lexer": "ipython3",
   "version": "3.10.12"
  }
 },
 "nbformat": 4,
 "nbformat_minor": 5
}
