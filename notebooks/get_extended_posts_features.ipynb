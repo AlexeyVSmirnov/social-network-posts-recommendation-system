{
 "cells": [
  {
   "cell_type": "markdown",
   "id": "8e4816cd-203b-456b-a06a-4d56cf844b89",
   "metadata": {},
   "source": [
    "# Формирование дополнительных признаков\n",
    "В этом ноутбуке выполняется получение дополнительных признаков из текстов сообщений в соцсети. Это должно улучшить качество модели классификации постов на понравившиеся и не понравившиеся конкретному пользователю."
   ]
  },
  {
   "cell_type": "code",
   "execution_count": 1,
   "id": "5e99bf91",
   "metadata": {},
   "outputs": [],
   "source": [
    "import pandas as pd\n",
    "import numpy as np\n",
    "from gensim.models import doc2vec\n",
    "\n",
    "\n",
    "SAVE_DATA_TO_CSV = False"
   ]
  },
  {
   "cell_type": "markdown",
   "id": "b018ab93-a268-4015-b5f6-08236445e508",
   "metadata": {},
   "source": [
    "## Загрузка подготовленных данных\n",
    "Перед загрузкой данных с признаками надо сначала выполнить все действия в ноутбуке `prepare_and_save_features.ipynb`, предварительно поставив флаг `SAVE_DATA_TO_CSV = True`. Это требуется для получения файла `./data/post_text.csv`. Если этот файл уже существует и содержит актуальные данные, то выполнять `prepare_and_save_features.ipynb` не нужно."
   ]
  },
  {
   "cell_type": "code",
   "execution_count": 2,
   "id": "ec19b632-b859-4e96-b02a-aa066f73723e",
   "metadata": {},
   "outputs": [
    {
     "name": "stdout",
     "output_type": "stream",
     "text": [
      "(7023, 3)\n"
     ]
    },
    {
     "data": {
      "text/html": [
       "<div>\n",
       "<style scoped>\n",
       "    .dataframe tbody tr th:only-of-type {\n",
       "        vertical-align: middle;\n",
       "    }\n",
       "\n",
       "    .dataframe tbody tr th {\n",
       "        vertical-align: top;\n",
       "    }\n",
       "\n",
       "    .dataframe thead th {\n",
       "        text-align: right;\n",
       "    }\n",
       "</style>\n",
       "<table border=\"1\" class=\"dataframe\">\n",
       "  <thead>\n",
       "    <tr style=\"text-align: right;\">\n",
       "      <th></th>\n",
       "      <th>post_id</th>\n",
       "      <th>text</th>\n",
       "      <th>topic</th>\n",
       "    </tr>\n",
       "  </thead>\n",
       "  <tbody>\n",
       "    <tr>\n",
       "      <th>0</th>\n",
       "      <td>1</td>\n",
       "      <td>UK economy facing major risks\\n\\nThe UK manufa...</td>\n",
       "      <td>business</td>\n",
       "    </tr>\n",
       "    <tr>\n",
       "      <th>1</th>\n",
       "      <td>2</td>\n",
       "      <td>Aids and climate top Davos agenda\\n\\nClimate c...</td>\n",
       "      <td>business</td>\n",
       "    </tr>\n",
       "    <tr>\n",
       "      <th>2</th>\n",
       "      <td>3</td>\n",
       "      <td>Asian quake hits European shares\\n\\nShares in ...</td>\n",
       "      <td>business</td>\n",
       "    </tr>\n",
       "  </tbody>\n",
       "</table>\n",
       "</div>"
      ],
      "text/plain": [
       "   post_id                                               text     topic\n",
       "0        1  UK economy facing major risks\\n\\nThe UK manufa...  business\n",
       "1        2  Aids and climate top Davos agenda\\n\\nClimate c...  business\n",
       "2        3  Asian quake hits European shares\\n\\nShares in ...  business"
      ]
     },
     "execution_count": 2,
     "metadata": {},
     "output_type": "execute_result"
    }
   ],
   "source": [
    "df_post_text = pd.read_csv(\"../data/post_text.csv\")\n",
    "print(df_post_text.shape)\n",
    "df_post_text.head(3)"
   ]
  },
  {
   "cell_type": "markdown",
   "id": "9ea8935c-a98a-4b96-99b3-a9b47b0be437",
   "metadata": {},
   "source": [
    "## Подготовка тренировочных данных\n",
    "Здесь выполняется преобразование списка текстов сообщений в датасет для использования при обучении модели doc2vec."
   ]
  },
  {
   "cell_type": "code",
   "execution_count": 3,
   "id": "91a750bd-7ae6-443e-9d9f-35e5127a7101",
   "metadata": {},
   "outputs": [],
   "source": [
    "def get_prepared_text(in_text: str):\n",
    "    \"\"\"\n",
    "     Функция предобработки текста.\n",
    "     Выполняет удаление групп пробелов и переносы\n",
    "     и приводит текст к нижнему регистру.\n",
    "    \"\"\"\n",
    "    in_text = in_text.replace('\\n', ' ')\n",
    "    while '  ' in in_text:\n",
    "        in_text = in_text.replace('  ', ' ')\n",
    "\n",
    "    in_text = in_text.strip().lower()\n",
    "    return in_text\n",
    "\n",
    "\n",
    "def get_tagged_document_from_df(df):\n",
    "    \"\"\"\n",
    "    Функция подготовки текстового датасета\n",
    "    для использования в модели doc2vec.\n",
    "    \"\"\"\n",
    "    for idx in df.index:\n",
    "        prep_txt = get_prepared_text(df.loc[idx][\"text\"])\n",
    "        yield doc2vec.TaggedDocument(prep_txt.split(), [idx])\n",
    "\n",
    "\n",
    "data_train = list(get_tagged_document_from_df(df_post_text))"
   ]
  },
  {
   "cell_type": "markdown",
   "id": "1a8a4f36-68ab-45be-bd64-5d38bbe7bf3d",
   "metadata": {},
   "source": [
    "## Обучение модели"
   ]
  },
  {
   "cell_type": "markdown",
   "id": "a56b8871-7be3-4f19-aeeb-6166c68e11e2",
   "metadata": {},
   "source": [
    "Создание модели и словаря для модели:"
   ]
  },
  {
   "cell_type": "code",
   "execution_count": 4,
   "id": "961fb6bc-2760-4d21-b244-a2708f31266f",
   "metadata": {},
   "outputs": [],
   "source": [
    "d2v_model = doc2vec.Doc2Vec(vector_size=20, min_count=2, epochs=200)\n",
    "\n",
    "d2v_model.build_vocab(data_train)"
   ]
  },
  {
   "cell_type": "markdown",
   "id": "7b0a42d1-9182-4469-b62a-f8a660604d7e",
   "metadata": {},
   "source": [
    "Обучение модели:"
   ]
  },
  {
   "cell_type": "code",
   "execution_count": 5,
   "id": "4dd877ff",
   "metadata": {},
   "outputs": [
    {
     "name": "stdout",
     "output_type": "stream",
     "text": [
      "CPU times: user 11min 39s, sys: 13.3 s, total: 11min 52s\n",
      "Wall time: 4min 58s\n"
     ]
    }
   ],
   "source": [
    "%%time\n",
    "d2v_model.train(data_train, \n",
    "                total_examples=d2v_model.corpus_count, \n",
    "                epochs=d2v_model.epochs)"
   ]
  },
  {
   "cell_type": "markdown",
   "id": "b6bda234-cd77-43de-99cd-60ee18fa8267",
   "metadata": {},
   "source": [
    "## Получение признаков из векторов текстов\n",
    "Здесь происходит получение векторного представления сообщений и на основе этого представления формирование дополнительных числовых признаков для каждого сообщения. "
   ]
  },
  {
   "cell_type": "code",
   "execution_count": 6,
   "id": "a3a47294",
   "metadata": {},
   "outputs": [
    {
     "name": "stdout",
     "output_type": "stream",
     "text": [
      "CPU times: user 7min 32s, sys: 292 ms, total: 7min 33s\n",
      "Wall time: 7min 33s\n"
     ]
    },
    {
     "data": {
      "text/plain": [
       "7023"
      ]
     },
     "execution_count": 6,
     "metadata": {},
     "output_type": "execute_result"
    }
   ],
   "source": [
    "%%time\n",
    "texts_vectors = []\n",
    "for row in data_train:\n",
    "    row_vector = []\n",
    "    row_vector.extend(row.tags)\n",
    "    row_vector.extend(d2v_model.infer_vector(row.words))\n",
    "    texts_vectors.append(row_vector)\n",
    "len(texts_vectors)"
   ]
  },
  {
   "cell_type": "code",
   "execution_count": 7,
   "id": "30d18dc9",
   "metadata": {},
   "outputs": [],
   "source": [
    "d2v_array = np.array(texts_vectors)\n",
    "idxs = d2v_array[:, 0].astype(int)\n",
    "vals = d2v_array[:, 1:]"
   ]
  },
  {
   "cell_type": "code",
   "execution_count": 8,
   "id": "589863b3",
   "metadata": {},
   "outputs": [
    {
     "data": {
      "text/html": [
       "<div>\n",
       "<style scoped>\n",
       "    .dataframe tbody tr th:only-of-type {\n",
       "        vertical-align: middle;\n",
       "    }\n",
       "\n",
       "    .dataframe tbody tr th {\n",
       "        vertical-align: top;\n",
       "    }\n",
       "\n",
       "    .dataframe thead th {\n",
       "        text-align: right;\n",
       "    }\n",
       "</style>\n",
       "<table border=\"1\" class=\"dataframe\">\n",
       "  <thead>\n",
       "    <tr style=\"text-align: right;\">\n",
       "      <th></th>\n",
       "      <th>d2v_1</th>\n",
       "      <th>d2v_2</th>\n",
       "      <th>d2v_3</th>\n",
       "      <th>d2v_4</th>\n",
       "      <th>d2v_5</th>\n",
       "      <th>d2v_6</th>\n",
       "      <th>d2v_7</th>\n",
       "      <th>d2v_8</th>\n",
       "      <th>d2v_9</th>\n",
       "      <th>d2v_10</th>\n",
       "      <th>d2v_11</th>\n",
       "      <th>d2v_12</th>\n",
       "      <th>d2v_13</th>\n",
       "      <th>d2v_14</th>\n",
       "      <th>d2v_15</th>\n",
       "      <th>d2v_16</th>\n",
       "      <th>d2v_17</th>\n",
       "      <th>d2v_18</th>\n",
       "      <th>d2v_19</th>\n",
       "      <th>d2v_20</th>\n",
       "    </tr>\n",
       "  </thead>\n",
       "  <tbody>\n",
       "    <tr>\n",
       "      <th>0</th>\n",
       "      <td>0.475043</td>\n",
       "      <td>9.604814</td>\n",
       "      <td>-1.963183</td>\n",
       "      <td>3.234909</td>\n",
       "      <td>-0.696753</td>\n",
       "      <td>-4.904148</td>\n",
       "      <td>2.217891</td>\n",
       "      <td>13.679256</td>\n",
       "      <td>-2.375175</td>\n",
       "      <td>-14.787580</td>\n",
       "      <td>2.283673</td>\n",
       "      <td>-1.398498</td>\n",
       "      <td>1.748283</td>\n",
       "      <td>4.383441</td>\n",
       "      <td>-3.488338</td>\n",
       "      <td>7.282822</td>\n",
       "      <td>-2.106024</td>\n",
       "      <td>-12.426719</td>\n",
       "      <td>-1.144862</td>\n",
       "      <td>1.471610</td>\n",
       "    </tr>\n",
       "    <tr>\n",
       "      <th>1</th>\n",
       "      <td>-0.479926</td>\n",
       "      <td>-1.825975</td>\n",
       "      <td>-3.626417</td>\n",
       "      <td>-0.409148</td>\n",
       "      <td>-4.444747</td>\n",
       "      <td>-2.822081</td>\n",
       "      <td>1.921235</td>\n",
       "      <td>5.102415</td>\n",
       "      <td>-4.266790</td>\n",
       "      <td>-7.294027</td>\n",
       "      <td>0.139248</td>\n",
       "      <td>-0.641879</td>\n",
       "      <td>-0.757251</td>\n",
       "      <td>-1.580353</td>\n",
       "      <td>0.675212</td>\n",
       "      <td>5.340289</td>\n",
       "      <td>-0.766597</td>\n",
       "      <td>-4.552031</td>\n",
       "      <td>0.140839</td>\n",
       "      <td>1.277483</td>\n",
       "    </tr>\n",
       "    <tr>\n",
       "      <th>2</th>\n",
       "      <td>-1.183734</td>\n",
       "      <td>9.598454</td>\n",
       "      <td>-0.787468</td>\n",
       "      <td>5.477929</td>\n",
       "      <td>-2.863148</td>\n",
       "      <td>1.828389</td>\n",
       "      <td>0.888420</td>\n",
       "      <td>5.811047</td>\n",
       "      <td>-6.261268</td>\n",
       "      <td>-15.021671</td>\n",
       "      <td>6.362102</td>\n",
       "      <td>-0.072358</td>\n",
       "      <td>3.763139</td>\n",
       "      <td>-1.317846</td>\n",
       "      <td>-3.896773</td>\n",
       "      <td>8.344177</td>\n",
       "      <td>-0.654131</td>\n",
       "      <td>-5.567890</td>\n",
       "      <td>-3.583399</td>\n",
       "      <td>2.895062</td>\n",
       "    </tr>\n",
       "  </tbody>\n",
       "</table>\n",
       "</div>"
      ],
      "text/plain": [
       "      d2v_1     d2v_2     d2v_3     d2v_4     d2v_5     d2v_6     d2v_7  \\\n",
       "0  0.475043  9.604814 -1.963183  3.234909 -0.696753 -4.904148  2.217891   \n",
       "1 -0.479926 -1.825975 -3.626417 -0.409148 -4.444747 -2.822081  1.921235   \n",
       "2 -1.183734  9.598454 -0.787468  5.477929 -2.863148  1.828389  0.888420   \n",
       "\n",
       "       d2v_8     d2v_9     d2v_10    d2v_11    d2v_12    d2v_13    d2v_14  \\\n",
       "0  13.679256 -2.375175 -14.787580  2.283673 -1.398498  1.748283  4.383441   \n",
       "1   5.102415 -4.266790  -7.294027  0.139248 -0.641879 -0.757251 -1.580353   \n",
       "2   5.811047 -6.261268 -15.021671  6.362102 -0.072358  3.763139 -1.317846   \n",
       "\n",
       "     d2v_15    d2v_16    d2v_17     d2v_18    d2v_19    d2v_20  \n",
       "0 -3.488338  7.282822 -2.106024 -12.426719 -1.144862  1.471610  \n",
       "1  0.675212  5.340289 -0.766597  -4.552031  0.140839  1.277483  \n",
       "2 -3.896773  8.344177 -0.654131  -5.567890 -3.583399  2.895062  "
      ]
     },
     "execution_count": 8,
     "metadata": {},
     "output_type": "execute_result"
    }
   ],
   "source": [
    "df_d2v_features = pd.DataFrame(data=vals, \n",
    "                               index=idxs, \n",
    "                               columns=[f\"d2v_{i+1}\" \n",
    "                                        for i in range(vals.shape[1])])\n",
    "df_d2v_features.head(3)"
   ]
  },
  {
   "cell_type": "markdown",
   "id": "843ba797-8844-4c9c-ac7e-dbca013c3745",
   "metadata": {},
   "source": [
    "## Сохранение полученных признаков\n",
    "Здесь полученные дополнительные признаки объединяются с исходным датасетом и сохраняются в файл для дальнейшего использования."
   ]
  },
  {
   "cell_type": "code",
   "execution_count": 9,
   "id": "1d9b1f74-8be8-482a-a1e2-5d6a61d80d5b",
   "metadata": {},
   "outputs": [],
   "source": [
    "if SAVE_DATA_TO_CSV:\n",
    "    df_post_data = pd.concat([df_post_text[[\"post_id\"]], \n",
    "                              df_d2v_features], axis=1)\n",
    "    df_post_data.to_csv(\"../data/post_features_d2v.csv\", \n",
    "                        index=False)"
   ]
  }
 ],
 "metadata": {
  "kernelspec": {
   "display_name": "Python 3 (ipykernel)",
   "language": "python",
   "name": "python3"
  },
  "language_info": {
   "codemirror_mode": {
    "name": "ipython",
    "version": 3
   },
   "file_extension": ".py",
   "mimetype": "text/x-python",
   "name": "python",
   "nbconvert_exporter": "python",
   "pygments_lexer": "ipython3",
   "version": "3.10.12"
  }
 },
 "nbformat": 4,
 "nbformat_minor": 5
}
